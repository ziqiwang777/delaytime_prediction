{
 "cells": [
  {
   "cell_type": "markdown",
   "metadata": {},
   "source": [
    "# Stage1. Data Processing and Feature Selection"
   ]
  },
  {
   "cell_type": "markdown",
   "metadata": {},
   "source": [
    "## (a) Data Import"
   ]
  },
  {
   "cell_type": "code",
   "execution_count": 7,
   "metadata": {},
   "outputs": [],
   "source": [
    "import numpy as np\n",
    "import pandas as pd\n",
    "import seaborn as sns\n",
    "import matplotlib.pyplot as plt\n",
    "%matplotlib inline"
   ]
  },
  {
   "cell_type": "code",
   "execution_count": 8,
   "metadata": {},
   "outputs": [
    {
     "data": {
      "text/plain": [
       "(1048575, 30)"
      ]
     },
     "execution_count": 8,
     "metadata": {},
     "output_type": "execute_result"
    }
   ],
   "source": [
    "#import data from csv file\n",
    "df = pd.read_csv(\"../Input/DelayedFlights.csv\")\n",
    "df.shape"
   ]
  },
  {
   "cell_type": "code",
   "execution_count": 36,
   "metadata": {},
   "outputs": [
    {
     "data": {
      "text/html": [
       "<div>\n",
       "<style scoped>\n",
       "    .dataframe tbody tr th:only-of-type {\n",
       "        vertical-align: middle;\n",
       "    }\n",
       "\n",
       "    .dataframe tbody tr th {\n",
       "        vertical-align: top;\n",
       "    }\n",
       "\n",
       "    .dataframe thead th {\n",
       "        text-align: right;\n",
       "    }\n",
       "</style>\n",
       "<table border=\"1\" class=\"dataframe\">\n",
       "  <thead>\n",
       "    <tr style=\"text-align: right;\">\n",
       "      <th></th>\n",
       "      <th>Unnamed: 0</th>\n",
       "      <th>Year</th>\n",
       "      <th>Month</th>\n",
       "      <th>DayofMonth</th>\n",
       "      <th>DayOfWeek</th>\n",
       "      <th>DepTime</th>\n",
       "      <th>CRSDepTime</th>\n",
       "      <th>ArrTime</th>\n",
       "      <th>CRSArrTime</th>\n",
       "      <th>UniqueCarrier</th>\n",
       "      <th>...</th>\n",
       "      <th>TaxiIn</th>\n",
       "      <th>TaxiOut</th>\n",
       "      <th>Cancelled</th>\n",
       "      <th>CancellationCode</th>\n",
       "      <th>Diverted</th>\n",
       "      <th>CarrierDelay</th>\n",
       "      <th>WeatherDelay</th>\n",
       "      <th>NASDelay</th>\n",
       "      <th>SecurityDelay</th>\n",
       "      <th>LateAircraftDelay</th>\n",
       "    </tr>\n",
       "  </thead>\n",
       "  <tbody>\n",
       "    <tr>\n",
       "      <th>0</th>\n",
       "      <td>0</td>\n",
       "      <td>2008</td>\n",
       "      <td>1</td>\n",
       "      <td>3</td>\n",
       "      <td>4</td>\n",
       "      <td>2003</td>\n",
       "      <td>1955</td>\n",
       "      <td>2211.0</td>\n",
       "      <td>2225</td>\n",
       "      <td>WN</td>\n",
       "      <td>...</td>\n",
       "      <td>4.0</td>\n",
       "      <td>8</td>\n",
       "      <td>0</td>\n",
       "      <td>N</td>\n",
       "      <td>0</td>\n",
       "      <td>NaN</td>\n",
       "      <td>NaN</td>\n",
       "      <td>NaN</td>\n",
       "      <td>NaN</td>\n",
       "      <td>NaN</td>\n",
       "    </tr>\n",
       "    <tr>\n",
       "      <th>1</th>\n",
       "      <td>1</td>\n",
       "      <td>2008</td>\n",
       "      <td>1</td>\n",
       "      <td>3</td>\n",
       "      <td>4</td>\n",
       "      <td>754</td>\n",
       "      <td>735</td>\n",
       "      <td>1002.0</td>\n",
       "      <td>1000</td>\n",
       "      <td>WN</td>\n",
       "      <td>...</td>\n",
       "      <td>5.0</td>\n",
       "      <td>10</td>\n",
       "      <td>0</td>\n",
       "      <td>N</td>\n",
       "      <td>0</td>\n",
       "      <td>NaN</td>\n",
       "      <td>NaN</td>\n",
       "      <td>NaN</td>\n",
       "      <td>NaN</td>\n",
       "      <td>NaN</td>\n",
       "    </tr>\n",
       "    <tr>\n",
       "      <th>2</th>\n",
       "      <td>2</td>\n",
       "      <td>2008</td>\n",
       "      <td>1</td>\n",
       "      <td>3</td>\n",
       "      <td>4</td>\n",
       "      <td>628</td>\n",
       "      <td>620</td>\n",
       "      <td>804.0</td>\n",
       "      <td>750</td>\n",
       "      <td>WN</td>\n",
       "      <td>...</td>\n",
       "      <td>3.0</td>\n",
       "      <td>17</td>\n",
       "      <td>0</td>\n",
       "      <td>N</td>\n",
       "      <td>0</td>\n",
       "      <td>NaN</td>\n",
       "      <td>NaN</td>\n",
       "      <td>NaN</td>\n",
       "      <td>NaN</td>\n",
       "      <td>NaN</td>\n",
       "    </tr>\n",
       "  </tbody>\n",
       "</table>\n",
       "<p>3 rows × 30 columns</p>\n",
       "</div>"
      ],
      "text/plain": [
       "   Unnamed: 0  Year  Month  DayofMonth  DayOfWeek  DepTime  CRSDepTime  \\\n",
       "0           0  2008      1           3          4     2003        1955   \n",
       "1           1  2008      1           3          4      754         735   \n",
       "2           2  2008      1           3          4      628         620   \n",
       "\n",
       "   ArrTime  CRSArrTime UniqueCarrier  ...  TaxiIn TaxiOut  Cancelled  \\\n",
       "0   2211.0        2225            WN  ...     4.0       8          0   \n",
       "1   1002.0        1000            WN  ...     5.0      10          0   \n",
       "2    804.0         750            WN  ...     3.0      17          0   \n",
       "\n",
       "   CancellationCode  Diverted  CarrierDelay  WeatherDelay NASDelay  \\\n",
       "0                 N         0           NaN           NaN      NaN   \n",
       "1                 N         0           NaN           NaN      NaN   \n",
       "2                 N         0           NaN           NaN      NaN   \n",
       "\n",
       "  SecurityDelay  LateAircraftDelay  \n",
       "0           NaN                NaN  \n",
       "1           NaN                NaN  \n",
       "2           NaN                NaN  \n",
       "\n",
       "[3 rows x 30 columns]"
      ]
     },
     "execution_count": 36,
     "metadata": {},
     "output_type": "execute_result"
    }
   ],
   "source": [
    "df.head(3)"
   ]
  },
  {
   "cell_type": "markdown",
   "metadata": {},
   "source": [
    "# Exploratory Analysis\n"
   ]
  },
  {
   "cell_type": "markdown",
   "metadata": {},
   "source": [
    "#### (a) processing missing value"
   ]
  },
  {
   "cell_type": "code",
   "execution_count": 37,
   "metadata": {},
   "outputs": [
    {
     "data": {
      "text/plain": [
       "<matplotlib.axes._subplots.AxesSubplot at 0x1a227ba320>"
      ]
     },
     "execution_count": 37,
     "metadata": {},
     "output_type": "execute_result"
    },
    {
     "data": {
      "image/png": "[encoded data removed]",
      "text/plain": [
       "<Figure size 864x576 with 1 Axes>"
      ]
     },
     "metadata": {
      "needs_background": "light"
     },
     "output_type": "display_data"
    }
   ],
   "source": [
    "# Yellow is missing values. It is shown in figure that there are many miss values in last 5 columns\n",
    "plt.figure(figsize = (12, 8))\n",
    "sns.heatmap(df.isnull(),yticklabels=False,cbar=False,cmap=\"viridis\")"
   ]
  },
  {
   "cell_type": "code",
   "execution_count": 9,
   "metadata": {},
   "outputs": [
    {
     "name": "stdout",
     "output_type": "stream",
     "text": [
      "The number of missing values of :CarrierDelay : 362841\n",
      "The number of missing values of :WeatherDelay : 362841\n",
      "The number of missing values of :NASDelay : 362841\n",
      "The number of missing values of :SecurityDelay : 362841\n",
      "The number of missing values of :LateAircraftDelay : 362841\n"
     ]
    }
   ],
   "source": [
    "# because of too much missing values,which maybe influence the training result, we decide to remove the last 5 column\n",
    "for column in df.columns[-5:]:\n",
    "    print(\"The number of missing values of :%s\"%str(column)+\" : %d\"%df[column].isnull().sum())\n",
    "    df.drop(column, axis = 1, inplace = True)\n",
    "# because there are only several rows missing some values, we choose remove it\n",
    "df.dropna(axis=0, how='any', inplace=True)"
   ]
  },
  {
   "cell_type": "code",
   "execution_count": 39,
   "metadata": {},
   "outputs": [
    {
     "data": {
      "text/html": [
       "<div>\n",
       "<style scoped>\n",
       "    .dataframe tbody tr th:only-of-type {\n",
       "        vertical-align: middle;\n",
       "    }\n",
       "\n",
       "    .dataframe tbody tr th {\n",
       "        vertical-align: top;\n",
       "    }\n",
       "\n",
       "    .dataframe thead th {\n",
       "        text-align: right;\n",
       "    }\n",
       "</style>\n",
       "<table border=\"1\" class=\"dataframe\">\n",
       "  <thead>\n",
       "    <tr style=\"text-align: right;\">\n",
       "      <th></th>\n",
       "      <th>Unnamed: 0</th>\n",
       "      <th>Year</th>\n",
       "      <th>Month</th>\n",
       "      <th>DayofMonth</th>\n",
       "      <th>DayOfWeek</th>\n",
       "      <th>DepTime</th>\n",
       "      <th>CRSDepTime</th>\n",
       "      <th>ArrTime</th>\n",
       "      <th>CRSArrTime</th>\n",
       "      <th>UniqueCarrier</th>\n",
       "      <th>...</th>\n",
       "      <th>ArrDelay</th>\n",
       "      <th>DepDelay</th>\n",
       "      <th>Origin</th>\n",
       "      <th>Dest</th>\n",
       "      <th>Distance</th>\n",
       "      <th>TaxiIn</th>\n",
       "      <th>TaxiOut</th>\n",
       "      <th>Cancelled</th>\n",
       "      <th>CancellationCode</th>\n",
       "      <th>Diverted</th>\n",
       "    </tr>\n",
       "  </thead>\n",
       "  <tbody>\n",
       "    <tr>\n",
       "      <th>0</th>\n",
       "      <td>0</td>\n",
       "      <td>2008</td>\n",
       "      <td>1</td>\n",
       "      <td>3</td>\n",
       "      <td>4</td>\n",
       "      <td>2003</td>\n",
       "      <td>1955</td>\n",
       "      <td>2211.0</td>\n",
       "      <td>2225</td>\n",
       "      <td>WN</td>\n",
       "      <td>...</td>\n",
       "      <td>-14.0</td>\n",
       "      <td>8</td>\n",
       "      <td>IAD</td>\n",
       "      <td>TPA</td>\n",
       "      <td>810</td>\n",
       "      <td>4.0</td>\n",
       "      <td>8</td>\n",
       "      <td>0</td>\n",
       "      <td>N</td>\n",
       "      <td>0</td>\n",
       "    </tr>\n",
       "    <tr>\n",
       "      <th>1</th>\n",
       "      <td>1</td>\n",
       "      <td>2008</td>\n",
       "      <td>1</td>\n",
       "      <td>3</td>\n",
       "      <td>4</td>\n",
       "      <td>754</td>\n",
       "      <td>735</td>\n",
       "      <td>1002.0</td>\n",
       "      <td>1000</td>\n",
       "      <td>WN</td>\n",
       "      <td>...</td>\n",
       "      <td>2.0</td>\n",
       "      <td>19</td>\n",
       "      <td>IAD</td>\n",
       "      <td>TPA</td>\n",
       "      <td>810</td>\n",
       "      <td>5.0</td>\n",
       "      <td>10</td>\n",
       "      <td>0</td>\n",
       "      <td>N</td>\n",
       "      <td>0</td>\n",
       "    </tr>\n",
       "    <tr>\n",
       "      <th>2</th>\n",
       "      <td>2</td>\n",
       "      <td>2008</td>\n",
       "      <td>1</td>\n",
       "      <td>3</td>\n",
       "      <td>4</td>\n",
       "      <td>628</td>\n",
       "      <td>620</td>\n",
       "      <td>804.0</td>\n",
       "      <td>750</td>\n",
       "      <td>WN</td>\n",
       "      <td>...</td>\n",
       "      <td>14.0</td>\n",
       "      <td>8</td>\n",
       "      <td>IND</td>\n",
       "      <td>BWI</td>\n",
       "      <td>515</td>\n",
       "      <td>3.0</td>\n",
       "      <td>17</td>\n",
       "      <td>0</td>\n",
       "      <td>N</td>\n",
       "      <td>0</td>\n",
       "    </tr>\n",
       "    <tr>\n",
       "      <th>3</th>\n",
       "      <td>4</td>\n",
       "      <td>2008</td>\n",
       "      <td>1</td>\n",
       "      <td>3</td>\n",
       "      <td>4</td>\n",
       "      <td>1829</td>\n",
       "      <td>1755</td>\n",
       "      <td>1959.0</td>\n",
       "      <td>1925</td>\n",
       "      <td>WN</td>\n",
       "      <td>...</td>\n",
       "      <td>34.0</td>\n",
       "      <td>34</td>\n",
       "      <td>IND</td>\n",
       "      <td>BWI</td>\n",
       "      <td>515</td>\n",
       "      <td>3.0</td>\n",
       "      <td>10</td>\n",
       "      <td>0</td>\n",
       "      <td>N</td>\n",
       "      <td>0</td>\n",
       "    </tr>\n",
       "    <tr>\n",
       "      <th>4</th>\n",
       "      <td>5</td>\n",
       "      <td>2008</td>\n",
       "      <td>1</td>\n",
       "      <td>3</td>\n",
       "      <td>4</td>\n",
       "      <td>1940</td>\n",
       "      <td>1915</td>\n",
       "      <td>2121.0</td>\n",
       "      <td>2110</td>\n",
       "      <td>WN</td>\n",
       "      <td>...</td>\n",
       "      <td>11.0</td>\n",
       "      <td>25</td>\n",
       "      <td>IND</td>\n",
       "      <td>JAX</td>\n",
       "      <td>688</td>\n",
       "      <td>4.0</td>\n",
       "      <td>10</td>\n",
       "      <td>0</td>\n",
       "      <td>N</td>\n",
       "      <td>0</td>\n",
       "    </tr>\n",
       "  </tbody>\n",
       "</table>\n",
       "<p>5 rows × 25 columns</p>\n",
       "</div>"
      ],
      "text/plain": [
       "   Unnamed: 0  Year  Month  DayofMonth  DayOfWeek  DepTime  CRSDepTime  \\\n",
       "0           0  2008      1           3          4     2003        1955   \n",
       "1           1  2008      1           3          4      754         735   \n",
       "2           2  2008      1           3          4      628         620   \n",
       "3           4  2008      1           3          4     1829        1755   \n",
       "4           5  2008      1           3          4     1940        1915   \n",
       "\n",
       "   ArrTime  CRSArrTime UniqueCarrier  ...  ArrDelay DepDelay  Origin  Dest  \\\n",
       "0   2211.0        2225            WN  ...     -14.0        8     IAD   TPA   \n",
       "1   1002.0        1000            WN  ...       2.0       19     IAD   TPA   \n",
       "2    804.0         750            WN  ...      14.0        8     IND   BWI   \n",
       "3   1959.0        1925            WN  ...      34.0       34     IND   BWI   \n",
       "4   2121.0        2110            WN  ...      11.0       25     IND   JAX   \n",
       "\n",
       "   Distance  TaxiIn  TaxiOut Cancelled CancellationCode  Diverted  \n",
       "0       810     4.0        8         0                N         0  \n",
       "1       810     5.0       10         0                N         0  \n",
       "2       515     3.0       17         0                N         0  \n",
       "3       515     3.0       10         0                N         0  \n",
       "4       688     4.0       10         0                N         0  \n",
       "\n",
       "[5 rows x 25 columns]"
      ]
     },
     "execution_count": 39,
     "metadata": {},
     "output_type": "execute_result"
    }
   ],
   "source": [
    "df.head()"
   ]
  },
  {
   "cell_type": "markdown",
   "metadata": {},
   "source": [
    "#### (b) Choose the data of 'WN' UniqueCarrier to do analysis by Delay Rate Of Different Arirlines"
   ]
  },
  {
   "cell_type": "code",
   "execution_count": 40,
   "metadata": {},
   "outputs": [],
   "source": [
    "#we calculate the rate of all UniqueCarrier,we chose 'WN' that have most instances to do analysis.\n",
    "uc_count = df.groupby(['UniqueCarrier'],as_index=False)['UniqueCarrier'].agg({'cnt':'count'}).sort_values(by='cnt',ascending=False)\n",
    "select_UniqueCarrier = uc_count.loc[uc_count['cnt'].idxmax()]['UniqueCarrier']\n",
    "the_number_of_the_whole_count = uc_count['cnt'].sum()\n",
    "rate = uc_count.values[:,1]/the_number_of_the_whole_count"
   ]
  },
  {
   "cell_type": "code",
   "execution_count": 41,
   "metadata": {},
   "outputs": [
    {
     "data": {
      "image/png": "[encoded data removed]",
      "text/plain": [
       "<Figure size 1080x648 with 2 Axes>"
      ]
     },
     "metadata": {
      "needs_background": "light"
     },
     "output_type": "display_data"
    }
   ],
   "source": [
    "from matplotlib import font_manager as fm\n",
    "from  matplotlib import cm\n",
    "\n",
    "labels = uc_count.values[:,0][:-1]\n",
    "sizes = rate[:-1]\n",
    "explode = (0.1,0,0,0,0,0,0,0,0,0,0,0,0,0,0,0,0,0,0)  \n",
    "fig, axes = plt.subplots(figsize=(15,9),ncols=2) \n",
    "ax1, ax2 = axes.ravel()\n",
    "colors = cm.rainbow(np.arange(len(sizes))/len(sizes)) \n",
    "patches, texts, autotexts = ax1.pie(sizes, labels=labels, autopct='%2.0f%%',explode=explode,\n",
    "        shadow=True, startangle=170, colors=colors, labeldistance=1.2,pctdistance=1.1, radius=0.4)\n",
    "ax1.axis('equal')  \n",
    "proptease = fm.FontProperties()\n",
    "proptease.set_size('medium')\n",
    "plt.setp(autotexts, fontproperties=proptease)\n",
    "plt.setp(texts, fontproperties=proptease)\n",
    "ax1.set_title('Delay Rate Of Different Arirlines ', loc='center',fontsize = \"xx-large\")\n",
    "ax2.axis('off')\n",
    "ax2.legend(patches, labels, loc='center left')\n",
    "\n",
    "plt.tight_layout()\n",
    "plt.show()"
   ]
  },
  {
   "cell_type": "markdown",
   "metadata": {},
   "source": [
    "#### (c) use ExtraTreesClassifier to calculate the importance of the features and remove the features with less importance"
   ]
  },
  {
   "cell_type": "code",
   "execution_count": 10,
   "metadata": {},
   "outputs": [],
   "source": [
    "x = df.copy()\n",
    "for column in ['Unnamed: 0','CancellationCode','Dest','Origin','UniqueCarrier','TailNum']:\n",
    "    x.drop(column, axis = 1, inplace = True)\n",
    "x_values = x.values"
   ]
  },
  {
   "cell_type": "code",
   "execution_count": 13,
   "metadata": {},
   "outputs": [],
   "source": [
    "y = x_values[:,-7][:20000]\n",
    "X = np.delete(x_values, -7, axis=1)[:20000]"
   ]
  },
  {
   "cell_type": "code",
   "execution_count": 14,
   "metadata": {},
   "outputs": [
    {
     "data": {
      "text/plain": [
       "array([0.        , 0.        , 0.05974044, 0.05397162, 0.07422588,\n",
       "       0.0678337 , 0.07625288, 0.06858085, 0.07202668, 0.07881752,\n",
       "       0.06168274, 0.0743985 , 0.10243919, 0.07049437, 0.06621888,\n",
       "       0.07331675, 0.        , 0.        ])"
      ]
     },
     "execution_count": 14,
     "metadata": {},
     "output_type": "execute_result"
    }
   ],
   "source": [
    "from sklearn.ensemble import ExtraTreesClassifier\n",
    "fs_clf = ExtraTreesClassifier(n_estimators=50)\n",
    "fs_clf = fs_clf.fit(X, y)\n",
    "fs_clf.feature_importances_"
   ]
  },
  {
   "cell_type": "code",
   "execution_count": 22,
   "metadata": {},
   "outputs": [],
   "source": [
    "droplist = ['Year','Month','DepTime','CRSDepTime','CRSArrTime','FlightNum',\\\n",
    "            'TailNum','ArrTime','ActualElapsedTime', 'CRSElapsedTime','Cancelled', \\\n",
    "            'CancellationCode', 'Diverted','Unnamed: 0']\n",
    "for column in droplist:\n",
    "    df.drop(column, axis = 1, inplace = True)\n"
   ]
  },
  {
   "cell_type": "markdown",
   "metadata": {},
   "source": [
    "#### (d) calculate correlation of continious attributes"
   ]
  },
  {
   "cell_type": "code",
   "execution_count": 23,
   "metadata": {},
   "outputs": [
    {
     "data": {
      "text/html": [
       "<div>\n",
       "<style scoped>\n",
       "    .dataframe tbody tr th:only-of-type {\n",
       "        vertical-align: middle;\n",
       "    }\n",
       "\n",
       "    .dataframe tbody tr th {\n",
       "        vertical-align: top;\n",
       "    }\n",
       "\n",
       "    .dataframe thead th {\n",
       "        text-align: right;\n",
       "    }\n",
       "</style>\n",
       "<table border=\"1\" class=\"dataframe\">\n",
       "  <thead>\n",
       "    <tr style=\"text-align: right;\">\n",
       "      <th></th>\n",
       "      <th>TaxiIn</th>\n",
       "      <th>TaxiOut</th>\n",
       "      <th>AirTime</th>\n",
       "      <th>Distance</th>\n",
       "    </tr>\n",
       "  </thead>\n",
       "  <tbody>\n",
       "    <tr>\n",
       "      <th>0</th>\n",
       "      <td>4.0</td>\n",
       "      <td>8</td>\n",
       "      <td>116.0</td>\n",
       "      <td>810</td>\n",
       "    </tr>\n",
       "    <tr>\n",
       "      <th>1</th>\n",
       "      <td>5.0</td>\n",
       "      <td>10</td>\n",
       "      <td>113.0</td>\n",
       "      <td>810</td>\n",
       "    </tr>\n",
       "    <tr>\n",
       "      <th>2</th>\n",
       "      <td>3.0</td>\n",
       "      <td>17</td>\n",
       "      <td>76.0</td>\n",
       "      <td>515</td>\n",
       "    </tr>\n",
       "    <tr>\n",
       "      <th>3</th>\n",
       "      <td>3.0</td>\n",
       "      <td>10</td>\n",
       "      <td>77.0</td>\n",
       "      <td>515</td>\n",
       "    </tr>\n",
       "    <tr>\n",
       "      <th>4</th>\n",
       "      <td>4.0</td>\n",
       "      <td>10</td>\n",
       "      <td>87.0</td>\n",
       "      <td>688</td>\n",
       "    </tr>\n",
       "  </tbody>\n",
       "</table>\n",
       "</div>"
      ],
      "text/plain": [
       "   TaxiIn  TaxiOut  AirTime  Distance\n",
       "0     4.0        8    116.0       810\n",
       "1     5.0       10    113.0       810\n",
       "2     3.0       17     76.0       515\n",
       "3     3.0       10     77.0       515\n",
       "4     4.0       10     87.0       688"
      ]
     },
     "execution_count": 23,
     "metadata": {},
     "output_type": "execute_result"
    }
   ],
   "source": [
    "col = [\"TaxiIn\",\"TaxiOut\",\"AirTime\",\"Distance\"]\n",
    "check_cor = df[col]\n",
    "check_cor.head()"
   ]
  },
  {
   "cell_type": "code",
   "execution_count": 24,
   "metadata": {},
   "outputs": [
    {
     "name": "stdout",
     "output_type": "stream",
     "text": [
      "            TaxiIn   TaxiOut   AirTime  Distance\n",
      "TaxiIn    1.000000  0.068745  0.086427  0.074855\n",
      "TaxiOut   0.068745  1.000000  0.083562  0.062820\n",
      "AirTime   0.086427  0.083562  1.000000  0.977847\n",
      "Distance  0.074855  0.062820  0.977847  1.000000\n",
      "Top Absolute Correlations\n",
      "AirTime  Distance    0.977847\n",
      "TaxiIn   AirTime     0.086427\n",
      "dtype: float64\n"
     ]
    }
   ],
   "source": [
    "def get_pairs(df):\n",
    "    ## Get diagonal and lower triangular pairs of correlation matrix\n",
    "    pairs_to_drop = set()\n",
    "    cols = df.columns\n",
    "    for i in range(0, df.shape[1]):\n",
    "        for j in range(0, i+1):\n",
    "            pairs_to_drop.add((cols[i], cols[j]))\n",
    "    return pairs_to_drop\n",
    "\n",
    "def get_top_abs_correlations(df, n=13):\n",
    "    cal_corr = df.corr().abs().unstack()\n",
    "    labels_to_drop = get_pairs(df)\n",
    "    cal_corr = cal_corr.drop(labels=labels_to_drop).sort_values(ascending=False)\n",
    "    return cal_corr[0:n]\n",
    "print(check_cor.corr())\n",
    "print(\"Top Absolute Correlations\")\n",
    "print(get_top_abs_correlations(check_cor, 2))"
   ]
  },
  {
   "cell_type": "code",
   "execution_count": 25,
   "metadata": {},
   "outputs": [
    {
     "data": {
      "text/plain": [
       "<matplotlib.axes._subplots.AxesSubplot at 0x1a301d4940>"
      ]
     },
     "execution_count": 25,
     "metadata": {},
     "output_type": "execute_result"
    },
    {
     "data": {
      "image/png": "[encoded data removed]",
      "text/plain": [
       "<Figure size 576x432 with 2 Axes>"
      ]
     },
     "metadata": {
      "needs_background": "light"
     },
     "output_type": "display_data"
    }
   ],
   "source": [
    "plt.figure(figsize=(8,6))\n",
    "sns.heatmap(check_cor.corr(),annot=True,cmap=\"Blues\")"
   ]
  },
  {
   "cell_type": "code",
   "execution_count": 26,
   "metadata": {},
   "outputs": [],
   "source": [
    "df.drop([\"AirTime\"], axis = 1, inplace = True)"
   ]
  },
  {
   "cell_type": "code",
   "execution_count": 30,
   "metadata": {},
   "outputs": [
    {
     "data": {
      "text/html": [
       "<div>\n",
       "<style scoped>\n",
       "    .dataframe tbody tr th:only-of-type {\n",
       "        vertical-align: middle;\n",
       "    }\n",
       "\n",
       "    .dataframe tbody tr th {\n",
       "        vertical-align: top;\n",
       "    }\n",
       "\n",
       "    .dataframe thead th {\n",
       "        text-align: right;\n",
       "    }\n",
       "</style>\n",
       "<table border=\"1\" class=\"dataframe\">\n",
       "  <thead>\n",
       "    <tr style=\"text-align: right;\">\n",
       "      <th></th>\n",
       "      <th>DayofMonth</th>\n",
       "      <th>DayOfWeek</th>\n",
       "      <th>UniqueCarrier</th>\n",
       "      <th>ArrDelay</th>\n",
       "      <th>DepDelay</th>\n",
       "      <th>Origin</th>\n",
       "      <th>Dest</th>\n",
       "      <th>Distance</th>\n",
       "      <th>TaxiIn</th>\n",
       "      <th>TaxiOut</th>\n",
       "    </tr>\n",
       "  </thead>\n",
       "  <tbody>\n",
       "    <tr>\n",
       "      <th>0</th>\n",
       "      <td>3</td>\n",
       "      <td>4</td>\n",
       "      <td>WN</td>\n",
       "      <td>-14.0</td>\n",
       "      <td>8</td>\n",
       "      <td>IAD</td>\n",
       "      <td>TPA</td>\n",
       "      <td>810</td>\n",
       "      <td>4.0</td>\n",
       "      <td>8</td>\n",
       "    </tr>\n",
       "    <tr>\n",
       "      <th>1</th>\n",
       "      <td>3</td>\n",
       "      <td>4</td>\n",
       "      <td>WN</td>\n",
       "      <td>2.0</td>\n",
       "      <td>19</td>\n",
       "      <td>IAD</td>\n",
       "      <td>TPA</td>\n",
       "      <td>810</td>\n",
       "      <td>5.0</td>\n",
       "      <td>10</td>\n",
       "    </tr>\n",
       "    <tr>\n",
       "      <th>2</th>\n",
       "      <td>3</td>\n",
       "      <td>4</td>\n",
       "      <td>WN</td>\n",
       "      <td>14.0</td>\n",
       "      <td>8</td>\n",
       "      <td>IND</td>\n",
       "      <td>BWI</td>\n",
       "      <td>515</td>\n",
       "      <td>3.0</td>\n",
       "      <td>17</td>\n",
       "    </tr>\n",
       "    <tr>\n",
       "      <th>3</th>\n",
       "      <td>3</td>\n",
       "      <td>4</td>\n",
       "      <td>WN</td>\n",
       "      <td>34.0</td>\n",
       "      <td>34</td>\n",
       "      <td>IND</td>\n",
       "      <td>BWI</td>\n",
       "      <td>515</td>\n",
       "      <td>3.0</td>\n",
       "      <td>10</td>\n",
       "    </tr>\n",
       "    <tr>\n",
       "      <th>4</th>\n",
       "      <td>3</td>\n",
       "      <td>4</td>\n",
       "      <td>WN</td>\n",
       "      <td>11.0</td>\n",
       "      <td>25</td>\n",
       "      <td>IND</td>\n",
       "      <td>JAX</td>\n",
       "      <td>688</td>\n",
       "      <td>4.0</td>\n",
       "      <td>10</td>\n",
       "    </tr>\n",
       "  </tbody>\n",
       "</table>\n",
       "</div>"
      ],
      "text/plain": [
       "   DayofMonth  DayOfWeek UniqueCarrier  ArrDelay  DepDelay Origin Dest  \\\n",
       "0           3          4            WN     -14.0         8    IAD  TPA   \n",
       "1           3          4            WN       2.0        19    IAD  TPA   \n",
       "2           3          4            WN      14.0         8    IND  BWI   \n",
       "3           3          4            WN      34.0        34    IND  BWI   \n",
       "4           3          4            WN      11.0        25    IND  JAX   \n",
       "\n",
       "   Distance  TaxiIn  TaxiOut  \n",
       "0       810     4.0        8  \n",
       "1       810     5.0       10  \n",
       "2       515     3.0       17  \n",
       "3       515     3.0       10  \n",
       "4       688     4.0       10  "
      ]
     },
     "execution_count": 30,
     "metadata": {},
     "output_type": "execute_result"
    }
   ],
   "source": [
    "df.head()"
   ]
  },
  {
   "cell_type": "code",
   "execution_count": 31,
   "metadata": {},
   "outputs": [],
   "source": [
    "df_filter = df[df['UniqueCarrier']==\"WN\"]"
   ]
  },
  {
   "cell_type": "code",
   "execution_count": 32,
   "metadata": {},
   "outputs": [
    {
     "data": {
      "text/plain": [
       "(213885, 10)"
      ]
     },
     "execution_count": 32,
     "metadata": {},
     "output_type": "execute_result"
    }
   ],
   "source": [
    "df_filter.shape"
   ]
  },
  {
   "cell_type": "code",
   "execution_count": 48,
   "metadata": {},
   "outputs": [
    {
     "data": {
      "image/png": "[encoded data removed]",
      "text/plain": [
       "<Figure size 720x504 with 1 Axes>"
      ]
     },
     "metadata": {
      "needs_background": "light"
     },
     "output_type": "display_data"
    }
   ],
   "source": [
    "date_grouped = df.groupby('DayofMonth')[\"ArrDelay\"].sum()\n",
    "date_grouped2 = df.groupby('DayofMonth')[\"ArrDelay\"].count()\n",
    "Month_grouped = pd.concat([date_grouped, date_grouped2],axis=1, keys=[\"sum\", \"count\"])\n",
    "Month_grouped[\"Average number of delays\"] = Month_grouped[\"sum\"]/Month_grouped[\"count\"]\n",
    "plt.figure(figsize = (10, 7))\n",
    "sns.set_style('whitegrid')\n",
    "sns.barplot(x=Month_grouped.index, y ='Average number of delays', data=Month_grouped, color ='blue')\n",
    "plt.xlabel(\"date distribution\")\n",
    "plt.ylabel(\"Average number of delays\")\n",
    "fig = plt.title(\"date distribution of a month Vs Probability of Arrival Delay\")\n"
   ]
  },
  {
   "cell_type": "code",
   "execution_count": 50,
   "metadata": {},
   "outputs": [
    {
     "data": {
      "image/png": "[encoded data removed]",
      "text/plain": [
       "<Figure size 432x288 with 1 Axes>"
      ]
     },
     "metadata": {},
     "output_type": "display_data"
    }
   ],
   "source": [
    "week_grouped = df.groupby('DayOfWeek')[\"ArrDelay\"].sum()\n",
    "week_grouped2 = df.groupby('DayOfWeek')[\"ArrDelay\"].count()\n",
    "Week_grouped = pd.concat([week_grouped, week_grouped2],axis=1, keys=[\"sum\", \"count\"])\n",
    "Week_grouped[\"Average number of delays\"] = Week_grouped[\"sum\"]/Week_grouped[\"count\"]\n",
    "plt.figure(figsize = (6, 4))\n",
    "sns.set_style('whitegrid')\n",
    "sns.barplot(x=Week_grouped.index, y ='Average number of delays', data=Week_grouped, color ='blue')\n",
    "plt.xlabel(\"Weekly distribution\")\n",
    "plt.ylabel(\"Average number of delays\")\n",
    "fig = plt.title(\"Weekly distribution of a month Vs Probability of Arrival Delay\")"
   ]
  },
  {
   "cell_type": "code",
   "execution_count": 52,
   "metadata": {},
   "outputs": [
    {
     "data": {
      "image/png": "[encoded data removed]",
      "text/plain": [
       "<Figure size 720x504 with 1 Axes>"
      ]
     },
     "metadata": {},
     "output_type": "display_data"
    }
   ],
   "source": [
    "origin_grouped = df.groupby('Origin')[\"ArrDelay\"].sum()\n",
    "origin_grouped2 = df.groupby('Origin')[\"ArrDelay\"].count()\n",
    "Origin_grouped = pd.concat([origin_grouped, origin_grouped2],axis=1, keys=[\"sum\", \"count\"])\n",
    "Origin_grouped[\"Average number of delays\"] = Origin_grouped[\"sum\"]/Origin_grouped[\"count\"]\n",
    "Origin_grouped.sort_values(by = \"Average number of delays\", ascending = False, inplace = True)\n",
    "plt.figure(figsize = (10, 7))\n",
    "sns.set_style('whitegrid')\n",
    "sns.barplot(x=Origin_grouped.index[:20], y ='Average number of delays', data=Origin_grouped[:20], color ='green')\n",
    "plt.xlabel(\"Origin Airport distribution\")\n",
    "plt.ylabel(\"Average number of delays\")\n",
    "fig = plt.title(\"Origin Airport distribution of a month Vs Probability of Arrival Delay\")"
   ]
  },
  {
   "cell_type": "code",
   "execution_count": 53,
   "metadata": {},
   "outputs": [
    {
     "data": {
      "image/png": "[encoded data removed]",
      "text/plain": [
       "<Figure size 720x504 with 1 Axes>"
      ]
     },
     "metadata": {},
     "output_type": "display_data"
    }
   ],
   "source": [
    "des_grouped = df.groupby('Dest')[\"ArrDelay\"].sum()\n",
    "des_grouped2 = df.groupby('Dest')[\"ArrDelay\"].count()\n",
    "Des_grouped = pd.concat([des_grouped, des_grouped2],axis=1, keys=[\"sum\", \"count\"])\n",
    "Des_grouped[\"Average number of delays\"] = Des_grouped[\"sum\"]/Des_grouped[\"count\"]\n",
    "Des_grouped.sort_values(by = \"Average number of delays\", ascending = False, inplace = True)\n",
    "plt.figure(figsize = (10,7))\n",
    "sns.set_style('whitegrid')\n",
    "sns.barplot(x=Des_grouped.index[:20], y ='Average number of delays', data=Des_grouped[:20], color ='green')\n",
    "plt.xlabel(\"Destination Airport distribution\")\n",
    "plt.ylabel(\"Average number of delays\")\n",
    "fig = plt.title(\"Destination Airport distribution of a month Vs Probability of Arrival Delay\")"
   ]
  },
  {
   "cell_type": "markdown",
   "metadata": {},
   "source": [
    "#### (e) encoding 'Origin' and 'Dest' columns to one-hot vector"
   ]
  },
  {
   "cell_type": "code",
   "execution_count": 33,
   "metadata": {},
   "outputs": [
    {
     "name": "stderr",
     "output_type": "stream",
     "text": [
      "/anaconda2/envs/python_3_6/lib/python3.6/site-packages/pandas/core/frame.py:3940: SettingWithCopyWarning: \n",
      "A value is trying to be set on a copy of a slice from a DataFrame\n",
      "\n",
      "See the caveats in the documentation: http://pandas.pydata.org/pandas-docs/stable/indexing.html#indexing-view-versus-copy\n",
      "  errors=errors)\n"
     ]
    }
   ],
   "source": [
    "categories = ['Origin', 'Dest']\n",
    "indicator_var = pd.DataFrame()\n",
    "for i in categories:\n",
    "    x = pd.get_dummies(df_filter[i],drop_first=True)\n",
    "    indicator_var = pd.concat([indicator_var, x],axis=1)\n",
    "df_filter2 = df_filter.drop('UniqueCarrier', axis = 1, inplace = True)"
   ]
  },
  {
   "cell_type": "code",
   "execution_count": 34,
   "metadata": {},
   "outputs": [
    {
     "data": {
      "text/html": [
       "<div>\n",
       "<style scoped>\n",
       "    .dataframe tbody tr th:only-of-type {\n",
       "        vertical-align: middle;\n",
       "    }\n",
       "\n",
       "    .dataframe tbody tr th {\n",
       "        vertical-align: top;\n",
       "    }\n",
       "\n",
       "    .dataframe thead th {\n",
       "        text-align: right;\n",
       "    }\n",
       "</style>\n",
       "<table border=\"1\" class=\"dataframe\">\n",
       "  <thead>\n",
       "    <tr style=\"text-align: right;\">\n",
       "      <th></th>\n",
       "      <th>DayofMonth</th>\n",
       "      <th>DayOfWeek</th>\n",
       "      <th>ArrDelay</th>\n",
       "      <th>DepDelay</th>\n",
       "      <th>Origin</th>\n",
       "      <th>Dest</th>\n",
       "      <th>Distance</th>\n",
       "      <th>TaxiIn</th>\n",
       "      <th>TaxiOut</th>\n",
       "    </tr>\n",
       "  </thead>\n",
       "  <tbody>\n",
       "    <tr>\n",
       "      <th>0</th>\n",
       "      <td>3</td>\n",
       "      <td>4</td>\n",
       "      <td>-14.0</td>\n",
       "      <td>8</td>\n",
       "      <td>IAD</td>\n",
       "      <td>TPA</td>\n",
       "      <td>810</td>\n",
       "      <td>4.0</td>\n",
       "      <td>8</td>\n",
       "    </tr>\n",
       "    <tr>\n",
       "      <th>1</th>\n",
       "      <td>3</td>\n",
       "      <td>4</td>\n",
       "      <td>2.0</td>\n",
       "      <td>19</td>\n",
       "      <td>IAD</td>\n",
       "      <td>TPA</td>\n",
       "      <td>810</td>\n",
       "      <td>5.0</td>\n",
       "      <td>10</td>\n",
       "    </tr>\n",
       "    <tr>\n",
       "      <th>2</th>\n",
       "      <td>3</td>\n",
       "      <td>4</td>\n",
       "      <td>14.0</td>\n",
       "      <td>8</td>\n",
       "      <td>IND</td>\n",
       "      <td>BWI</td>\n",
       "      <td>515</td>\n",
       "      <td>3.0</td>\n",
       "      <td>17</td>\n",
       "    </tr>\n",
       "    <tr>\n",
       "      <th>3</th>\n",
       "      <td>3</td>\n",
       "      <td>4</td>\n",
       "      <td>34.0</td>\n",
       "      <td>34</td>\n",
       "      <td>IND</td>\n",
       "      <td>BWI</td>\n",
       "      <td>515</td>\n",
       "      <td>3.0</td>\n",
       "      <td>10</td>\n",
       "    </tr>\n",
       "    <tr>\n",
       "      <th>4</th>\n",
       "      <td>3</td>\n",
       "      <td>4</td>\n",
       "      <td>11.0</td>\n",
       "      <td>25</td>\n",
       "      <td>IND</td>\n",
       "      <td>JAX</td>\n",
       "      <td>688</td>\n",
       "      <td>4.0</td>\n",
       "      <td>10</td>\n",
       "    </tr>\n",
       "  </tbody>\n",
       "</table>\n",
       "</div>"
      ],
      "text/plain": [
       "   DayofMonth  DayOfWeek  ArrDelay  DepDelay Origin Dest  Distance  TaxiIn  \\\n",
       "0           3          4     -14.0         8    IAD  TPA       810     4.0   \n",
       "1           3          4       2.0        19    IAD  TPA       810     5.0   \n",
       "2           3          4      14.0         8    IND  BWI       515     3.0   \n",
       "3           3          4      34.0        34    IND  BWI       515     3.0   \n",
       "4           3          4      11.0        25    IND  JAX       688     4.0   \n",
       "\n",
       "   TaxiOut  \n",
       "0        8  \n",
       "1       10  \n",
       "2       17  \n",
       "3       10  \n",
       "4       10  "
      ]
     },
     "execution_count": 34,
     "metadata": {},
     "output_type": "execute_result"
    }
   ],
   "source": [
    "df_filter.head()"
   ]
  },
  {
   "cell_type": "code",
   "execution_count": 35,
   "metadata": {},
   "outputs": [],
   "source": [
    "#drop the the columns which use one - hot to encode\n",
    "for col in categories:\n",
    "    df_filter.drop(col, axis = 1, inplace = True)\n"
   ]
  },
  {
   "cell_type": "markdown",
   "metadata": {},
   "source": [
    "#### (e) combine the data"
   ]
  },
  {
   "cell_type": "code",
   "execution_count": 13,
   "metadata": {},
   "outputs": [],
   "source": [
    "final_data = pd.concat([indicator_var, df_filter],axis=1)\n"
   ]
  },
  {
   "cell_type": "code",
   "execution_count": 14,
   "metadata": {},
   "outputs": [
    {
     "data": {
      "text/plain": [
       "(213885, 133)"
      ]
     },
     "execution_count": 14,
     "metadata": {},
     "output_type": "execute_result"
    }
   ],
   "source": [
    "final_data.shape"
   ]
  },
  {
   "cell_type": "code",
   "execution_count": 15,
   "metadata": {},
   "outputs": [],
   "source": [
    "final_data.head()\n",
    "final_data_filter_values = final_data.values"
   ]
  },
  {
   "cell_type": "code",
   "execution_count": 16,
   "metadata": {},
   "outputs": [
    {
     "name": "stdout",
     "output_type": "stream",
     "text": [
      "[[   0.    0.    0. ...  810.    4.    8.]\n",
      " [   0.    0.    0. ...  810.    5.   10.]\n",
      " [   0.    0.    0. ...  515.    3.   17.]\n",
      " ...\n",
      " [   0.    0.    0. ... 1372.    5.    9.]\n",
      " [   0.    0.    0. ...  237.    4.    9.]\n",
      " [   0.    0.    0. ...  880.    5.   12.]]\n"
     ]
    }
   ],
   "source": [
    "print(final_data_filter_values)"
   ]
  },
  {
   "cell_type": "code",
   "execution_count": 17,
   "metadata": {},
   "outputs": [],
   "source": [
    "label_array = final_data_filter_values[:,-5]\n",
    "features_array = np.delete(final_data_filter_values, -5, axis=1)\n",
    "\n"
   ]
  },
  {
   "cell_type": "markdown",
   "metadata": {},
   "source": [
    "# Stage2. Model Buidling"
   ]
  },
  {
   "cell_type": "code",
   "execution_count": 37,
   "metadata": {},
   "outputs": [],
   "source": [
    "from sklearn.model_selection import cross_val_score\n",
    "from sklearn.model_selection import StratifiedKFold\n",
    "from sklearn.metrics import confusion_matrix\n",
    "from sklearn.model_selection import learning_curve, GridSearchCV,train_test_split\n",
    "from sklearn.neural_network import MLPRegressor  \n",
    "from sklearn.preprocessing import StandardScaler\n",
    "from sklearn.svm import SVR\n",
    "import time\n",
    "from sklearn.decomposition import PCA\n",
    "from sklearn.model_selection import cross_val_score\n",
    "from sklearn.model_selection import StratifiedKFold\n",
    "\n",
    "\n"
   ]
  },
  {
   "cell_type": "code",
   "execution_count": 38,
   "metadata": {},
   "outputs": [],
   "source": [
    "#Pca --- dimensionality reduction\n",
    "def PCA_transform(n_components,x):\n",
    "    pca = PCA(n_components)\n",
    "    x_Pca = pca.fit_transform(x) \n",
    "    return x_Pca"
   ]
  },
  {
   "cell_type": "code",
   "execution_count": 39,
   "metadata": {},
   "outputs": [],
   "source": [
    "# Nomalization\n",
    "scaler = StandardScaler() \n",
    "scaler.fit(features_array)  \n",
    "features_array_norm = scaler.transform(features_array)\n"
   ]
  },
  {
   "cell_type": "code",
   "execution_count": 40,
   "metadata": {},
   "outputs": [
    {
     "name": "stderr",
     "output_type": "stream",
     "text": [
      "/anaconda2/envs/python_3_6/lib/python3.6/site-packages/sklearn/model_selection/_split.py:2179: FutureWarning: From version 0.21, test_size will always complement train_size unless both are specified.\n",
      "  FutureWarning)\n"
     ]
    }
   ],
   "source": [
    "#split data to train_data(80%) and test_data(20%) \n",
    "train_data,test_data,train_label,test_label = train_test_split(features_array_norm,label_array,train_size=0.8)"
   ]
  },
  {
   "cell_type": "code",
   "execution_count": 29,
   "metadata": {},
   "outputs": [],
   "source": [
    "# 10 - fold cross validation, This method is used to adjust parameters by mse.\n",
    "def ten_flod_cv(clf,X,y,cv = 10):\n",
    "    t1 = time.time()\n",
    "    scores_mse = cross_val_score(clf, X, y, scoring = 'neg_mean_squared_error',cv=10)\n",
    "    print(\"MSE : %3f\"%(scores_mse.mean()))\n",
    "    t2 = time.time()\n",
    "    print(\"time : %3f\"%((t2-t1)/cv))\n",
    "    return(abs(scores_mse))\n"
   ]
  },
  {
   "cell_type": "markdown",
   "metadata": {},
   "source": [
    "# Method1.Multilayer Perceptron Regression"
   ]
  },
  {
   "cell_type": "markdown",
   "metadata": {},
   "source": [
    "#### (1).adjust alpha and max_iter --- result : choose alpha = 0.01 ,max_iter = 300"
   ]
  },
  {
   "cell_type": "code",
   "execution_count": 62,
   "metadata": {},
   "outputs": [
    {
     "name": "stdout",
     "output_type": "stream",
     "text": [
      "max_iter :50, alpha : 0.1 : \n",
      "MSE : -135.589906\n",
      "time : 3.003607\n",
      "max_iter :50, alpha : 0.05 : \n",
      "MSE : -134.986410\n",
      "time : 3.024354\n",
      "max_iter :100, alpha : 0.1 : \n",
      "MSE : -91.501799\n",
      "time : 5.954902\n",
      "max_iter :100, alpha : 0.05 : \n",
      "MSE : -91.416047\n",
      "time : 5.978404\n",
      "max_iter :200, alpha : 0.1 : \n",
      "MSE : -75.548941\n",
      "time : 12.207243\n",
      "max_iter :200, alpha : 0.05 : \n",
      "MSE : -75.278762\n",
      "time : 12.103102\n",
      "max_iter :300, alpha : 0.1 : \n",
      "MSE : -70.448707\n",
      "time : 18.107810\n",
      "max_iter :300, alpha : 0.05 : \n",
      "MSE : -70.323403\n",
      "time : 18.048943\n",
      "max_iter :400, alpha : 0.1 : \n",
      "MSE : -68.333051\n",
      "time : 24.059764\n",
      "max_iter :400, alpha : 0.05 : \n",
      "MSE : -68.113061\n",
      "time : 23.153831\n",
      "max_iter :500, alpha : 0.1 : \n",
      "MSE : -67.012524\n",
      "time : 28.572835\n",
      "max_iter :500, alpha : 0.05 : \n",
      "MSE : -66.946341\n",
      "time : 28.609612\n"
     ]
    }
   ],
   "source": [
    "scores = []\n",
    "for max_iter in [50,100,200,300,400,500]:\n",
    "#     for alpha in [0.0001,0.001,0.01]:\n",
    "    for alpha in [0.1,0.05]:\n",
    "\n",
    "\n",
    "        mlpclf = MLPRegressor(solver='lbfgs', max_iter = max_iter,alpha=alpha,hidden_layer_sizes=(10, 10), random_state=1)\n",
    "        print(\"max_iter :\" + str(max_iter)+\", alpha : \"+str(alpha)+\" : \")\n",
    "        scores.append((abs(ten_flod_cv(mlpclf,train_data,train_label)),max_iter,alpha))"
   ]
  },
  {
   "cell_type": "markdown",
   "metadata": {},
   "source": [
    "#### (2).adjust hidden layer size --- result : (30,30)"
   ]
  },
  {
   "cell_type": "code",
   "execution_count": 66,
   "metadata": {},
   "outputs": [
    {
     "name": "stdout",
     "output_type": "stream",
     "text": [
      "hidden_layer_sizes :(10, 10)\n",
      "MSE : -70.323403\n",
      "time : 17.308037\n",
      "hidden_layer_sizes :(20, 20)\n",
      "MSE : -62.784153\n",
      "time : 29.362903\n",
      "hidden_layer_sizes :(30, 30)\n",
      "MSE : -61.224164\n",
      "time : 43.249871\n",
      "hidden_layer_sizes :(10, 10, 10)\n",
      "MSE : -71.969470\n",
      "time : 24.290883\n",
      "hidden_layer_sizes :(20, 20, 20)\n",
      "MSE : -63.355819\n",
      "time : 42.722778\n",
      "hidden_layer_sizes :(30, 30, 30)\n",
      "MSE : -60.958309\n",
      "time : 61.858682\n",
      "hidden_layer_sizes :(10, 10, 10, 10)\n",
      "MSE : -67.262907\n",
      "time : 29.137480\n",
      "hidden_layer_sizes :(20, 20, 20, 20)\n",
      "MSE : -62.661361\n",
      "time : 52.717707\n"
     ]
    }
   ],
   "source": [
    "scores = []\n",
    "for hidden_layer_size in [(10,10),(20,20),(30,30),(10,10,10),(20,20,20),(30,30,30),(10,10,10,10),(20,20,20,20)]:\n",
    "    mlpclf = MLPRegressor(solver='lbfgs',max_iter = 300,alpha=0.05,hidden_layer_sizes=hidden_layer_size, random_state=1)\n",
    "    print(\"hidden_layer_sizes :\" + str(hidden_layer_size))\n",
    "    scores.append((abs(ten_flod_cv(mlpclf,train_data,train_label)),hidden_layer_size))"
   ]
  },
  {
   "cell_type": "markdown",
   "metadata": {},
   "source": [
    "# Method2. Gradient Boosting Regressor"
   ]
  },
  {
   "cell_type": "markdown",
   "metadata": {},
   "source": [
    "#### (1). adjust n_estimators -- result: choose n_estimators = 120 "
   ]
  },
  {
   "cell_type": "code",
   "execution_count": 27,
   "metadata": {
    "scrolled": true
   },
   "outputs": [
    {
     "name": "stdout",
     "output_type": "stream",
     "text": [
      "n_estimators :60 : \n",
      "MSE : -1310.005551\n",
      "time : 28.270602\n",
      "n_estimators :80 : \n",
      "MSE : -1249.734488\n",
      "time : 33.843373\n",
      "n_estimators :100 : \n",
      "MSE : -1200.719536\n",
      "time : 44.895866\n",
      "n_estimators :120 : \n",
      "MSE : -1159.507526\n",
      "time : 52.210772\n"
     ]
    }
   ],
   "source": [
    "from sklearn.ensemble import GradientBoostingRegressor\n",
    "scores = []\n",
    "for i in range(3,7):\n",
    "    est = GradientBoostingRegressor(n_estimators=20*i, learning_rate=0.1,max_depth=1, random_state=0, loss='ls').fit(train_data, train_label)\n",
    "    print(\"n_estimators :\" + str(20*i)+\" : \")\n",
    "    scores.append((abs(ten_flod_cv(est,train_data,train_label)),20*i))\n"
   ]
  },
  {
   "cell_type": "markdown",
   "metadata": {},
   "source": [
    "# Method3. Gradient Boosting Regressor"
   ]
  },
  {
   "cell_type": "markdown",
   "metadata": {},
   "source": [
    "#### (1) adjust the C and kernel(because the speed is too slow we use the smaller data to adjust paramaters) -- result : C = 1.2,kernel = 'linear' "
   ]
  },
  {
   "cell_type": "code",
   "execution_count": 26,
   "metadata": {},
   "outputs": [
    {
     "name": "stdout",
     "output_type": "stream",
     "text": [
      "C :0.8, kernel : rbf : \n"
     ]
    },
    {
     "name": "stderr",
     "output_type": "stream",
     "text": [
      "/anaconda2/envs/python_3_6/lib/python3.6/site-packages/sklearn/svm/base.py:196: FutureWarning: The default value of gamma will change from 'auto' to 'scale' in version 0.22 to account better for unscaled features. Set gamma explicitly to 'auto' or 'scale' to avoid this warning.\n",
      "  \"avoid this warning.\", FutureWarning)\n",
      "/anaconda2/envs/python_3_6/lib/python3.6/site-packages/sklearn/svm/base.py:196: FutureWarning: The default value of gamma will change from 'auto' to 'scale' in version 0.22 to account better for unscaled features. Set gamma explicitly to 'auto' or 'scale' to avoid this warning.\n",
      "  \"avoid this warning.\", FutureWarning)\n",
      "/anaconda2/envs/python_3_6/lib/python3.6/site-packages/sklearn/svm/base.py:196: FutureWarning: The default value of gamma will change from 'auto' to 'scale' in version 0.22 to account better for unscaled features. Set gamma explicitly to 'auto' or 'scale' to avoid this warning.\n",
      "  \"avoid this warning.\", FutureWarning)\n",
      "/anaconda2/envs/python_3_6/lib/python3.6/site-packages/sklearn/svm/base.py:196: FutureWarning: The default value of gamma will change from 'auto' to 'scale' in version 0.22 to account better for unscaled features. Set gamma explicitly to 'auto' or 'scale' to avoid this warning.\n",
      "  \"avoid this warning.\", FutureWarning)\n",
      "/anaconda2/envs/python_3_6/lib/python3.6/site-packages/sklearn/svm/base.py:196: FutureWarning: The default value of gamma will change from 'auto' to 'scale' in version 0.22 to account better for unscaled features. Set gamma explicitly to 'auto' or 'scale' to avoid this warning.\n",
      "  \"avoid this warning.\", FutureWarning)\n",
      "/anaconda2/envs/python_3_6/lib/python3.6/site-packages/sklearn/svm/base.py:196: FutureWarning: The default value of gamma will change from 'auto' to 'scale' in version 0.22 to account better for unscaled features. Set gamma explicitly to 'auto' or 'scale' to avoid this warning.\n",
      "  \"avoid this warning.\", FutureWarning)\n",
      "/anaconda2/envs/python_3_6/lib/python3.6/site-packages/sklearn/svm/base.py:196: FutureWarning: The default value of gamma will change from 'auto' to 'scale' in version 0.22 to account better for unscaled features. Set gamma explicitly to 'auto' or 'scale' to avoid this warning.\n",
      "  \"avoid this warning.\", FutureWarning)\n",
      "/anaconda2/envs/python_3_6/lib/python3.6/site-packages/sklearn/svm/base.py:196: FutureWarning: The default value of gamma will change from 'auto' to 'scale' in version 0.22 to account better for unscaled features. Set gamma explicitly to 'auto' or 'scale' to avoid this warning.\n",
      "  \"avoid this warning.\", FutureWarning)\n",
      "/anaconda2/envs/python_3_6/lib/python3.6/site-packages/sklearn/svm/base.py:196: FutureWarning: The default value of gamma will change from 'auto' to 'scale' in version 0.22 to account better for unscaled features. Set gamma explicitly to 'auto' or 'scale' to avoid this warning.\n",
      "  \"avoid this warning.\", FutureWarning)\n",
      "/anaconda2/envs/python_3_6/lib/python3.6/site-packages/sklearn/svm/base.py:196: FutureWarning: The default value of gamma will change from 'auto' to 'scale' in version 0.22 to account better for unscaled features. Set gamma explicitly to 'auto' or 'scale' to avoid this warning.\n",
      "  \"avoid this warning.\", FutureWarning)\n"
     ]
    },
    {
     "name": "stdout",
     "output_type": "stream",
     "text": [
      "MSE : -1442.242267\n",
      "time : 8.139232\n",
      "C :0.8, kernel : linear : \n",
      "MSE : -907.998949\n",
      "time : 8.067075\n",
      "C :0.8, kernel : poly : \n"
     ]
    },
    {
     "name": "stderr",
     "output_type": "stream",
     "text": [
      "/anaconda2/envs/python_3_6/lib/python3.6/site-packages/sklearn/svm/base.py:196: FutureWarning: The default value of gamma will change from 'auto' to 'scale' in version 0.22 to account better for unscaled features. Set gamma explicitly to 'auto' or 'scale' to avoid this warning.\n",
      "  \"avoid this warning.\", FutureWarning)\n",
      "/anaconda2/envs/python_3_6/lib/python3.6/site-packages/sklearn/svm/base.py:196: FutureWarning: The default value of gamma will change from 'auto' to 'scale' in version 0.22 to account better for unscaled features. Set gamma explicitly to 'auto' or 'scale' to avoid this warning.\n",
      "  \"avoid this warning.\", FutureWarning)\n",
      "/anaconda2/envs/python_3_6/lib/python3.6/site-packages/sklearn/svm/base.py:196: FutureWarning: The default value of gamma will change from 'auto' to 'scale' in version 0.22 to account better for unscaled features. Set gamma explicitly to 'auto' or 'scale' to avoid this warning.\n",
      "  \"avoid this warning.\", FutureWarning)\n",
      "/anaconda2/envs/python_3_6/lib/python3.6/site-packages/sklearn/svm/base.py:196: FutureWarning: The default value of gamma will change from 'auto' to 'scale' in version 0.22 to account better for unscaled features. Set gamma explicitly to 'auto' or 'scale' to avoid this warning.\n",
      "  \"avoid this warning.\", FutureWarning)\n",
      "/anaconda2/envs/python_3_6/lib/python3.6/site-packages/sklearn/svm/base.py:196: FutureWarning: The default value of gamma will change from 'auto' to 'scale' in version 0.22 to account better for unscaled features. Set gamma explicitly to 'auto' or 'scale' to avoid this warning.\n",
      "  \"avoid this warning.\", FutureWarning)\n",
      "/anaconda2/envs/python_3_6/lib/python3.6/site-packages/sklearn/svm/base.py:196: FutureWarning: The default value of gamma will change from 'auto' to 'scale' in version 0.22 to account better for unscaled features. Set gamma explicitly to 'auto' or 'scale' to avoid this warning.\n",
      "  \"avoid this warning.\", FutureWarning)\n",
      "/anaconda2/envs/python_3_6/lib/python3.6/site-packages/sklearn/svm/base.py:196: FutureWarning: The default value of gamma will change from 'auto' to 'scale' in version 0.22 to account better for unscaled features. Set gamma explicitly to 'auto' or 'scale' to avoid this warning.\n",
      "  \"avoid this warning.\", FutureWarning)\n",
      "/anaconda2/envs/python_3_6/lib/python3.6/site-packages/sklearn/svm/base.py:196: FutureWarning: The default value of gamma will change from 'auto' to 'scale' in version 0.22 to account better for unscaled features. Set gamma explicitly to 'auto' or 'scale' to avoid this warning.\n",
      "  \"avoid this warning.\", FutureWarning)\n",
      "/anaconda2/envs/python_3_6/lib/python3.6/site-packages/sklearn/svm/base.py:196: FutureWarning: The default value of gamma will change from 'auto' to 'scale' in version 0.22 to account better for unscaled features. Set gamma explicitly to 'auto' or 'scale' to avoid this warning.\n",
      "  \"avoid this warning.\", FutureWarning)\n",
      "/anaconda2/envs/python_3_6/lib/python3.6/site-packages/sklearn/svm/base.py:196: FutureWarning: The default value of gamma will change from 'auto' to 'scale' in version 0.22 to account better for unscaled features. Set gamma explicitly to 'auto' or 'scale' to avoid this warning.\n",
      "  \"avoid this warning.\", FutureWarning)\n"
     ]
    },
    {
     "name": "stdout",
     "output_type": "stream",
     "text": [
      "MSE : -1737.901048\n",
      "time : 6.781206\n",
      "C :0.9, kernel : rbf : \n"
     ]
    },
    {
     "name": "stderr",
     "output_type": "stream",
     "text": [
      "/anaconda2/envs/python_3_6/lib/python3.6/site-packages/sklearn/svm/base.py:196: FutureWarning: The default value of gamma will change from 'auto' to 'scale' in version 0.22 to account better for unscaled features. Set gamma explicitly to 'auto' or 'scale' to avoid this warning.\n",
      "  \"avoid this warning.\", FutureWarning)\n",
      "/anaconda2/envs/python_3_6/lib/python3.6/site-packages/sklearn/svm/base.py:196: FutureWarning: The default value of gamma will change from 'auto' to 'scale' in version 0.22 to account better for unscaled features. Set gamma explicitly to 'auto' or 'scale' to avoid this warning.\n",
      "  \"avoid this warning.\", FutureWarning)\n",
      "/anaconda2/envs/python_3_6/lib/python3.6/site-packages/sklearn/svm/base.py:196: FutureWarning: The default value of gamma will change from 'auto' to 'scale' in version 0.22 to account better for unscaled features. Set gamma explicitly to 'auto' or 'scale' to avoid this warning.\n",
      "  \"avoid this warning.\", FutureWarning)\n",
      "/anaconda2/envs/python_3_6/lib/python3.6/site-packages/sklearn/svm/base.py:196: FutureWarning: The default value of gamma will change from 'auto' to 'scale' in version 0.22 to account better for unscaled features. Set gamma explicitly to 'auto' or 'scale' to avoid this warning.\n",
      "  \"avoid this warning.\", FutureWarning)\n",
      "/anaconda2/envs/python_3_6/lib/python3.6/site-packages/sklearn/svm/base.py:196: FutureWarning: The default value of gamma will change from 'auto' to 'scale' in version 0.22 to account better for unscaled features. Set gamma explicitly to 'auto' or 'scale' to avoid this warning.\n",
      "  \"avoid this warning.\", FutureWarning)\n",
      "/anaconda2/envs/python_3_6/lib/python3.6/site-packages/sklearn/svm/base.py:196: FutureWarning: The default value of gamma will change from 'auto' to 'scale' in version 0.22 to account better for unscaled features. Set gamma explicitly to 'auto' or 'scale' to avoid this warning.\n",
      "  \"avoid this warning.\", FutureWarning)\n",
      "/anaconda2/envs/python_3_6/lib/python3.6/site-packages/sklearn/svm/base.py:196: FutureWarning: The default value of gamma will change from 'auto' to 'scale' in version 0.22 to account better for unscaled features. Set gamma explicitly to 'auto' or 'scale' to avoid this warning.\n",
      "  \"avoid this warning.\", FutureWarning)\n",
      "/anaconda2/envs/python_3_6/lib/python3.6/site-packages/sklearn/svm/base.py:196: FutureWarning: The default value of gamma will change from 'auto' to 'scale' in version 0.22 to account better for unscaled features. Set gamma explicitly to 'auto' or 'scale' to avoid this warning.\n",
      "  \"avoid this warning.\", FutureWarning)\n",
      "/anaconda2/envs/python_3_6/lib/python3.6/site-packages/sklearn/svm/base.py:196: FutureWarning: The default value of gamma will change from 'auto' to 'scale' in version 0.22 to account better for unscaled features. Set gamma explicitly to 'auto' or 'scale' to avoid this warning.\n",
      "  \"avoid this warning.\", FutureWarning)\n",
      "/anaconda2/envs/python_3_6/lib/python3.6/site-packages/sklearn/svm/base.py:196: FutureWarning: The default value of gamma will change from 'auto' to 'scale' in version 0.22 to account better for unscaled features. Set gamma explicitly to 'auto' or 'scale' to avoid this warning.\n",
      "  \"avoid this warning.\", FutureWarning)\n"
     ]
    },
    {
     "name": "stdout",
     "output_type": "stream",
     "text": [
      "MSE : -1398.050981\n",
      "time : 7.975986\n",
      "C :0.9, kernel : linear : \n",
      "MSE : -907.591956\n",
      "time : 8.018172\n",
      "C :0.9, kernel : poly : \n"
     ]
    },
    {
     "name": "stderr",
     "output_type": "stream",
     "text": [
      "/anaconda2/envs/python_3_6/lib/python3.6/site-packages/sklearn/svm/base.py:196: FutureWarning: The default value of gamma will change from 'auto' to 'scale' in version 0.22 to account better for unscaled features. Set gamma explicitly to 'auto' or 'scale' to avoid this warning.\n",
      "  \"avoid this warning.\", FutureWarning)\n",
      "/anaconda2/envs/python_3_6/lib/python3.6/site-packages/sklearn/svm/base.py:196: FutureWarning: The default value of gamma will change from 'auto' to 'scale' in version 0.22 to account better for unscaled features. Set gamma explicitly to 'auto' or 'scale' to avoid this warning.\n",
      "  \"avoid this warning.\", FutureWarning)\n",
      "/anaconda2/envs/python_3_6/lib/python3.6/site-packages/sklearn/svm/base.py:196: FutureWarning: The default value of gamma will change from 'auto' to 'scale' in version 0.22 to account better for unscaled features. Set gamma explicitly to 'auto' or 'scale' to avoid this warning.\n",
      "  \"avoid this warning.\", FutureWarning)\n",
      "/anaconda2/envs/python_3_6/lib/python3.6/site-packages/sklearn/svm/base.py:196: FutureWarning: The default value of gamma will change from 'auto' to 'scale' in version 0.22 to account better for unscaled features. Set gamma explicitly to 'auto' or 'scale' to avoid this warning.\n",
      "  \"avoid this warning.\", FutureWarning)\n",
      "/anaconda2/envs/python_3_6/lib/python3.6/site-packages/sklearn/svm/base.py:196: FutureWarning: The default value of gamma will change from 'auto' to 'scale' in version 0.22 to account better for unscaled features. Set gamma explicitly to 'auto' or 'scale' to avoid this warning.\n",
      "  \"avoid this warning.\", FutureWarning)\n",
      "/anaconda2/envs/python_3_6/lib/python3.6/site-packages/sklearn/svm/base.py:196: FutureWarning: The default value of gamma will change from 'auto' to 'scale' in version 0.22 to account better for unscaled features. Set gamma explicitly to 'auto' or 'scale' to avoid this warning.\n",
      "  \"avoid this warning.\", FutureWarning)\n",
      "/anaconda2/envs/python_3_6/lib/python3.6/site-packages/sklearn/svm/base.py:196: FutureWarning: The default value of gamma will change from 'auto' to 'scale' in version 0.22 to account better for unscaled features. Set gamma explicitly to 'auto' or 'scale' to avoid this warning.\n",
      "  \"avoid this warning.\", FutureWarning)\n",
      "/anaconda2/envs/python_3_6/lib/python3.6/site-packages/sklearn/svm/base.py:196: FutureWarning: The default value of gamma will change from 'auto' to 'scale' in version 0.22 to account better for unscaled features. Set gamma explicitly to 'auto' or 'scale' to avoid this warning.\n",
      "  \"avoid this warning.\", FutureWarning)\n",
      "/anaconda2/envs/python_3_6/lib/python3.6/site-packages/sklearn/svm/base.py:196: FutureWarning: The default value of gamma will change from 'auto' to 'scale' in version 0.22 to account better for unscaled features. Set gamma explicitly to 'auto' or 'scale' to avoid this warning.\n",
      "  \"avoid this warning.\", FutureWarning)\n",
      "/anaconda2/envs/python_3_6/lib/python3.6/site-packages/sklearn/svm/base.py:196: FutureWarning: The default value of gamma will change from 'auto' to 'scale' in version 0.22 to account better for unscaled features. Set gamma explicitly to 'auto' or 'scale' to avoid this warning.\n",
      "  \"avoid this warning.\", FutureWarning)\n"
     ]
    },
    {
     "name": "stdout",
     "output_type": "stream",
     "text": [
      "MSE : -1708.919521\n",
      "time : 6.547465\n",
      "C :1.0, kernel : rbf : \n"
     ]
    },
    {
     "name": "stderr",
     "output_type": "stream",
     "text": [
      "/anaconda2/envs/python_3_6/lib/python3.6/site-packages/sklearn/svm/base.py:196: FutureWarning: The default value of gamma will change from 'auto' to 'scale' in version 0.22 to account better for unscaled features. Set gamma explicitly to 'auto' or 'scale' to avoid this warning.\n",
      "  \"avoid this warning.\", FutureWarning)\n",
      "/anaconda2/envs/python_3_6/lib/python3.6/site-packages/sklearn/svm/base.py:196: FutureWarning: The default value of gamma will change from 'auto' to 'scale' in version 0.22 to account better for unscaled features. Set gamma explicitly to 'auto' or 'scale' to avoid this warning.\n",
      "  \"avoid this warning.\", FutureWarning)\n",
      "/anaconda2/envs/python_3_6/lib/python3.6/site-packages/sklearn/svm/base.py:196: FutureWarning: The default value of gamma will change from 'auto' to 'scale' in version 0.22 to account better for unscaled features. Set gamma explicitly to 'auto' or 'scale' to avoid this warning.\n",
      "  \"avoid this warning.\", FutureWarning)\n",
      "/anaconda2/envs/python_3_6/lib/python3.6/site-packages/sklearn/svm/base.py:196: FutureWarning: The default value of gamma will change from 'auto' to 'scale' in version 0.22 to account better for unscaled features. Set gamma explicitly to 'auto' or 'scale' to avoid this warning.\n",
      "  \"avoid this warning.\", FutureWarning)\n",
      "/anaconda2/envs/python_3_6/lib/python3.6/site-packages/sklearn/svm/base.py:196: FutureWarning: The default value of gamma will change from 'auto' to 'scale' in version 0.22 to account better for unscaled features. Set gamma explicitly to 'auto' or 'scale' to avoid this warning.\n",
      "  \"avoid this warning.\", FutureWarning)\n",
      "/anaconda2/envs/python_3_6/lib/python3.6/site-packages/sklearn/svm/base.py:196: FutureWarning: The default value of gamma will change from 'auto' to 'scale' in version 0.22 to account better for unscaled features. Set gamma explicitly to 'auto' or 'scale' to avoid this warning.\n",
      "  \"avoid this warning.\", FutureWarning)\n",
      "/anaconda2/envs/python_3_6/lib/python3.6/site-packages/sklearn/svm/base.py:196: FutureWarning: The default value of gamma will change from 'auto' to 'scale' in version 0.22 to account better for unscaled features. Set gamma explicitly to 'auto' or 'scale' to avoid this warning.\n",
      "  \"avoid this warning.\", FutureWarning)\n",
      "/anaconda2/envs/python_3_6/lib/python3.6/site-packages/sklearn/svm/base.py:196: FutureWarning: The default value of gamma will change from 'auto' to 'scale' in version 0.22 to account better for unscaled features. Set gamma explicitly to 'auto' or 'scale' to avoid this warning.\n",
      "  \"avoid this warning.\", FutureWarning)\n",
      "/anaconda2/envs/python_3_6/lib/python3.6/site-packages/sklearn/svm/base.py:196: FutureWarning: The default value of gamma will change from 'auto' to 'scale' in version 0.22 to account better for unscaled features. Set gamma explicitly to 'auto' or 'scale' to avoid this warning.\n",
      "  \"avoid this warning.\", FutureWarning)\n",
      "/anaconda2/envs/python_3_6/lib/python3.6/site-packages/sklearn/svm/base.py:196: FutureWarning: The default value of gamma will change from 'auto' to 'scale' in version 0.22 to account better for unscaled features. Set gamma explicitly to 'auto' or 'scale' to avoid this warning.\n",
      "  \"avoid this warning.\", FutureWarning)\n"
     ]
    },
    {
     "name": "stdout",
     "output_type": "stream",
     "text": [
      "MSE : -1356.896032\n",
      "time : 8.008214\n",
      "C :1.0, kernel : linear : \n",
      "MSE : -907.363726\n",
      "time : 8.200865\n",
      "C :1.0, kernel : poly : \n"
     ]
    },
    {
     "name": "stderr",
     "output_type": "stream",
     "text": [
      "/anaconda2/envs/python_3_6/lib/python3.6/site-packages/sklearn/svm/base.py:196: FutureWarning: The default value of gamma will change from 'auto' to 'scale' in version 0.22 to account better for unscaled features. Set gamma explicitly to 'auto' or 'scale' to avoid this warning.\n",
      "  \"avoid this warning.\", FutureWarning)\n",
      "/anaconda2/envs/python_3_6/lib/python3.6/site-packages/sklearn/svm/base.py:196: FutureWarning: The default value of gamma will change from 'auto' to 'scale' in version 0.22 to account better for unscaled features. Set gamma explicitly to 'auto' or 'scale' to avoid this warning.\n",
      "  \"avoid this warning.\", FutureWarning)\n",
      "/anaconda2/envs/python_3_6/lib/python3.6/site-packages/sklearn/svm/base.py:196: FutureWarning: The default value of gamma will change from 'auto' to 'scale' in version 0.22 to account better for unscaled features. Set gamma explicitly to 'auto' or 'scale' to avoid this warning.\n",
      "  \"avoid this warning.\", FutureWarning)\n",
      "/anaconda2/envs/python_3_6/lib/python3.6/site-packages/sklearn/svm/base.py:196: FutureWarning: The default value of gamma will change from 'auto' to 'scale' in version 0.22 to account better for unscaled features. Set gamma explicitly to 'auto' or 'scale' to avoid this warning.\n",
      "  \"avoid this warning.\", FutureWarning)\n",
      "/anaconda2/envs/python_3_6/lib/python3.6/site-packages/sklearn/svm/base.py:196: FutureWarning: The default value of gamma will change from 'auto' to 'scale' in version 0.22 to account better for unscaled features. Set gamma explicitly to 'auto' or 'scale' to avoid this warning.\n",
      "  \"avoid this warning.\", FutureWarning)\n",
      "/anaconda2/envs/python_3_6/lib/python3.6/site-packages/sklearn/svm/base.py:196: FutureWarning: The default value of gamma will change from 'auto' to 'scale' in version 0.22 to account better for unscaled features. Set gamma explicitly to 'auto' or 'scale' to avoid this warning.\n",
      "  \"avoid this warning.\", FutureWarning)\n",
      "/anaconda2/envs/python_3_6/lib/python3.6/site-packages/sklearn/svm/base.py:196: FutureWarning: The default value of gamma will change from 'auto' to 'scale' in version 0.22 to account better for unscaled features. Set gamma explicitly to 'auto' or 'scale' to avoid this warning.\n",
      "  \"avoid this warning.\", FutureWarning)\n",
      "/anaconda2/envs/python_3_6/lib/python3.6/site-packages/sklearn/svm/base.py:196: FutureWarning: The default value of gamma will change from 'auto' to 'scale' in version 0.22 to account better for unscaled features. Set gamma explicitly to 'auto' or 'scale' to avoid this warning.\n",
      "  \"avoid this warning.\", FutureWarning)\n",
      "/anaconda2/envs/python_3_6/lib/python3.6/site-packages/sklearn/svm/base.py:196: FutureWarning: The default value of gamma will change from 'auto' to 'scale' in version 0.22 to account better for unscaled features. Set gamma explicitly to 'auto' or 'scale' to avoid this warning.\n",
      "  \"avoid this warning.\", FutureWarning)\n",
      "/anaconda2/envs/python_3_6/lib/python3.6/site-packages/sklearn/svm/base.py:196: FutureWarning: The default value of gamma will change from 'auto' to 'scale' in version 0.22 to account better for unscaled features. Set gamma explicitly to 'auto' or 'scale' to avoid this warning.\n",
      "  \"avoid this warning.\", FutureWarning)\n"
     ]
    },
    {
     "name": "stdout",
     "output_type": "stream",
     "text": [
      "MSE : -1680.631492\n",
      "time : 6.745852\n",
      "C :1.1, kernel : rbf : \n"
     ]
    },
    {
     "name": "stderr",
     "output_type": "stream",
     "text": [
      "/anaconda2/envs/python_3_6/lib/python3.6/site-packages/sklearn/svm/base.py:196: FutureWarning: The default value of gamma will change from 'auto' to 'scale' in version 0.22 to account better for unscaled features. Set gamma explicitly to 'auto' or 'scale' to avoid this warning.\n",
      "  \"avoid this warning.\", FutureWarning)\n",
      "/anaconda2/envs/python_3_6/lib/python3.6/site-packages/sklearn/svm/base.py:196: FutureWarning: The default value of gamma will change from 'auto' to 'scale' in version 0.22 to account better for unscaled features. Set gamma explicitly to 'auto' or 'scale' to avoid this warning.\n",
      "  \"avoid this warning.\", FutureWarning)\n",
      "/anaconda2/envs/python_3_6/lib/python3.6/site-packages/sklearn/svm/base.py:196: FutureWarning: The default value of gamma will change from 'auto' to 'scale' in version 0.22 to account better for unscaled features. Set gamma explicitly to 'auto' or 'scale' to avoid this warning.\n",
      "  \"avoid this warning.\", FutureWarning)\n",
      "/anaconda2/envs/python_3_6/lib/python3.6/site-packages/sklearn/svm/base.py:196: FutureWarning: The default value of gamma will change from 'auto' to 'scale' in version 0.22 to account better for unscaled features. Set gamma explicitly to 'auto' or 'scale' to avoid this warning.\n",
      "  \"avoid this warning.\", FutureWarning)\n",
      "/anaconda2/envs/python_3_6/lib/python3.6/site-packages/sklearn/svm/base.py:196: FutureWarning: The default value of gamma will change from 'auto' to 'scale' in version 0.22 to account better for unscaled features. Set gamma explicitly to 'auto' or 'scale' to avoid this warning.\n",
      "  \"avoid this warning.\", FutureWarning)\n",
      "/anaconda2/envs/python_3_6/lib/python3.6/site-packages/sklearn/svm/base.py:196: FutureWarning: The default value of gamma will change from 'auto' to 'scale' in version 0.22 to account better for unscaled features. Set gamma explicitly to 'auto' or 'scale' to avoid this warning.\n",
      "  \"avoid this warning.\", FutureWarning)\n",
      "/anaconda2/envs/python_3_6/lib/python3.6/site-packages/sklearn/svm/base.py:196: FutureWarning: The default value of gamma will change from 'auto' to 'scale' in version 0.22 to account better for unscaled features. Set gamma explicitly to 'auto' or 'scale' to avoid this warning.\n",
      "  \"avoid this warning.\", FutureWarning)\n",
      "/anaconda2/envs/python_3_6/lib/python3.6/site-packages/sklearn/svm/base.py:196: FutureWarning: The default value of gamma will change from 'auto' to 'scale' in version 0.22 to account better for unscaled features. Set gamma explicitly to 'auto' or 'scale' to avoid this warning.\n",
      "  \"avoid this warning.\", FutureWarning)\n",
      "/anaconda2/envs/python_3_6/lib/python3.6/site-packages/sklearn/svm/base.py:196: FutureWarning: The default value of gamma will change from 'auto' to 'scale' in version 0.22 to account better for unscaled features. Set gamma explicitly to 'auto' or 'scale' to avoid this warning.\n",
      "  \"avoid this warning.\", FutureWarning)\n",
      "/anaconda2/envs/python_3_6/lib/python3.6/site-packages/sklearn/svm/base.py:196: FutureWarning: The default value of gamma will change from 'auto' to 'scale' in version 0.22 to account better for unscaled features. Set gamma explicitly to 'auto' or 'scale' to avoid this warning.\n",
      "  \"avoid this warning.\", FutureWarning)\n"
     ]
    },
    {
     "name": "stdout",
     "output_type": "stream",
     "text": [
      "MSE : -1320.372070\n",
      "time : 8.104538\n",
      "C :1.1, kernel : linear : \n",
      "MSE : -907.145538\n",
      "time : 8.349136\n",
      "C :1.1, kernel : poly : \n"
     ]
    },
    {
     "name": "stderr",
     "output_type": "stream",
     "text": [
      "/anaconda2/envs/python_3_6/lib/python3.6/site-packages/sklearn/svm/base.py:196: FutureWarning: The default value of gamma will change from 'auto' to 'scale' in version 0.22 to account better for unscaled features. Set gamma explicitly to 'auto' or 'scale' to avoid this warning.\n",
      "  \"avoid this warning.\", FutureWarning)\n",
      "/anaconda2/envs/python_3_6/lib/python3.6/site-packages/sklearn/svm/base.py:196: FutureWarning: The default value of gamma will change from 'auto' to 'scale' in version 0.22 to account better for unscaled features. Set gamma explicitly to 'auto' or 'scale' to avoid this warning.\n",
      "  \"avoid this warning.\", FutureWarning)\n",
      "/anaconda2/envs/python_3_6/lib/python3.6/site-packages/sklearn/svm/base.py:196: FutureWarning: The default value of gamma will change from 'auto' to 'scale' in version 0.22 to account better for unscaled features. Set gamma explicitly to 'auto' or 'scale' to avoid this warning.\n",
      "  \"avoid this warning.\", FutureWarning)\n",
      "/anaconda2/envs/python_3_6/lib/python3.6/site-packages/sklearn/svm/base.py:196: FutureWarning: The default value of gamma will change from 'auto' to 'scale' in version 0.22 to account better for unscaled features. Set gamma explicitly to 'auto' or 'scale' to avoid this warning.\n",
      "  \"avoid this warning.\", FutureWarning)\n",
      "/anaconda2/envs/python_3_6/lib/python3.6/site-packages/sklearn/svm/base.py:196: FutureWarning: The default value of gamma will change from 'auto' to 'scale' in version 0.22 to account better for unscaled features. Set gamma explicitly to 'auto' or 'scale' to avoid this warning.\n",
      "  \"avoid this warning.\", FutureWarning)\n",
      "/anaconda2/envs/python_3_6/lib/python3.6/site-packages/sklearn/svm/base.py:196: FutureWarning: The default value of gamma will change from 'auto' to 'scale' in version 0.22 to account better for unscaled features. Set gamma explicitly to 'auto' or 'scale' to avoid this warning.\n",
      "  \"avoid this warning.\", FutureWarning)\n",
      "/anaconda2/envs/python_3_6/lib/python3.6/site-packages/sklearn/svm/base.py:196: FutureWarning: The default value of gamma will change from 'auto' to 'scale' in version 0.22 to account better for unscaled features. Set gamma explicitly to 'auto' or 'scale' to avoid this warning.\n",
      "  \"avoid this warning.\", FutureWarning)\n",
      "/anaconda2/envs/python_3_6/lib/python3.6/site-packages/sklearn/svm/base.py:196: FutureWarning: The default value of gamma will change from 'auto' to 'scale' in version 0.22 to account better for unscaled features. Set gamma explicitly to 'auto' or 'scale' to avoid this warning.\n",
      "  \"avoid this warning.\", FutureWarning)\n",
      "/anaconda2/envs/python_3_6/lib/python3.6/site-packages/sklearn/svm/base.py:196: FutureWarning: The default value of gamma will change from 'auto' to 'scale' in version 0.22 to account better for unscaled features. Set gamma explicitly to 'auto' or 'scale' to avoid this warning.\n",
      "  \"avoid this warning.\", FutureWarning)\n",
      "/anaconda2/envs/python_3_6/lib/python3.6/site-packages/sklearn/svm/base.py:196: FutureWarning: The default value of gamma will change from 'auto' to 'scale' in version 0.22 to account better for unscaled features. Set gamma explicitly to 'auto' or 'scale' to avoid this warning.\n",
      "  \"avoid this warning.\", FutureWarning)\n"
     ]
    },
    {
     "name": "stdout",
     "output_type": "stream",
     "text": [
      "MSE : -1652.932430\n",
      "time : 6.794153\n",
      "C :1.2, kernel : rbf : \n"
     ]
    },
    {
     "name": "stderr",
     "output_type": "stream",
     "text": [
      "/anaconda2/envs/python_3_6/lib/python3.6/site-packages/sklearn/svm/base.py:196: FutureWarning: The default value of gamma will change from 'auto' to 'scale' in version 0.22 to account better for unscaled features. Set gamma explicitly to 'auto' or 'scale' to avoid this warning.\n",
      "  \"avoid this warning.\", FutureWarning)\n",
      "/anaconda2/envs/python_3_6/lib/python3.6/site-packages/sklearn/svm/base.py:196: FutureWarning: The default value of gamma will change from 'auto' to 'scale' in version 0.22 to account better for unscaled features. Set gamma explicitly to 'auto' or 'scale' to avoid this warning.\n",
      "  \"avoid this warning.\", FutureWarning)\n",
      "/anaconda2/envs/python_3_6/lib/python3.6/site-packages/sklearn/svm/base.py:196: FutureWarning: The default value of gamma will change from 'auto' to 'scale' in version 0.22 to account better for unscaled features. Set gamma explicitly to 'auto' or 'scale' to avoid this warning.\n",
      "  \"avoid this warning.\", FutureWarning)\n",
      "/anaconda2/envs/python_3_6/lib/python3.6/site-packages/sklearn/svm/base.py:196: FutureWarning: The default value of gamma will change from 'auto' to 'scale' in version 0.22 to account better for unscaled features. Set gamma explicitly to 'auto' or 'scale' to avoid this warning.\n",
      "  \"avoid this warning.\", FutureWarning)\n",
      "/anaconda2/envs/python_3_6/lib/python3.6/site-packages/sklearn/svm/base.py:196: FutureWarning: The default value of gamma will change from 'auto' to 'scale' in version 0.22 to account better for unscaled features. Set gamma explicitly to 'auto' or 'scale' to avoid this warning.\n",
      "  \"avoid this warning.\", FutureWarning)\n",
      "/anaconda2/envs/python_3_6/lib/python3.6/site-packages/sklearn/svm/base.py:196: FutureWarning: The default value of gamma will change from 'auto' to 'scale' in version 0.22 to account better for unscaled features. Set gamma explicitly to 'auto' or 'scale' to avoid this warning.\n",
      "  \"avoid this warning.\", FutureWarning)\n",
      "/anaconda2/envs/python_3_6/lib/python3.6/site-packages/sklearn/svm/base.py:196: FutureWarning: The default value of gamma will change from 'auto' to 'scale' in version 0.22 to account better for unscaled features. Set gamma explicitly to 'auto' or 'scale' to avoid this warning.\n",
      "  \"avoid this warning.\", FutureWarning)\n",
      "/anaconda2/envs/python_3_6/lib/python3.6/site-packages/sklearn/svm/base.py:196: FutureWarning: The default value of gamma will change from 'auto' to 'scale' in version 0.22 to account better for unscaled features. Set gamma explicitly to 'auto' or 'scale' to avoid this warning.\n",
      "  \"avoid this warning.\", FutureWarning)\n",
      "/anaconda2/envs/python_3_6/lib/python3.6/site-packages/sklearn/svm/base.py:196: FutureWarning: The default value of gamma will change from 'auto' to 'scale' in version 0.22 to account better for unscaled features. Set gamma explicitly to 'auto' or 'scale' to avoid this warning.\n",
      "  \"avoid this warning.\", FutureWarning)\n",
      "/anaconda2/envs/python_3_6/lib/python3.6/site-packages/sklearn/svm/base.py:196: FutureWarning: The default value of gamma will change from 'auto' to 'scale' in version 0.22 to account better for unscaled features. Set gamma explicitly to 'auto' or 'scale' to avoid this warning.\n",
      "  \"avoid this warning.\", FutureWarning)\n"
     ]
    },
    {
     "name": "stdout",
     "output_type": "stream",
     "text": [
      "MSE : -1285.346803\n",
      "time : 7.911624\n",
      "C :1.2, kernel : linear : \n",
      "MSE : -907.053449\n",
      "time : 8.461773\n",
      "C :1.2, kernel : poly : \n"
     ]
    },
    {
     "name": "stderr",
     "output_type": "stream",
     "text": [
      "/anaconda2/envs/python_3_6/lib/python3.6/site-packages/sklearn/svm/base.py:196: FutureWarning: The default value of gamma will change from 'auto' to 'scale' in version 0.22 to account better for unscaled features. Set gamma explicitly to 'auto' or 'scale' to avoid this warning.\n",
      "  \"avoid this warning.\", FutureWarning)\n",
      "/anaconda2/envs/python_3_6/lib/python3.6/site-packages/sklearn/svm/base.py:196: FutureWarning: The default value of gamma will change from 'auto' to 'scale' in version 0.22 to account better for unscaled features. Set gamma explicitly to 'auto' or 'scale' to avoid this warning.\n",
      "  \"avoid this warning.\", FutureWarning)\n",
      "/anaconda2/envs/python_3_6/lib/python3.6/site-packages/sklearn/svm/base.py:196: FutureWarning: The default value of gamma will change from 'auto' to 'scale' in version 0.22 to account better for unscaled features. Set gamma explicitly to 'auto' or 'scale' to avoid this warning.\n",
      "  \"avoid this warning.\", FutureWarning)\n",
      "/anaconda2/envs/python_3_6/lib/python3.6/site-packages/sklearn/svm/base.py:196: FutureWarning: The default value of gamma will change from 'auto' to 'scale' in version 0.22 to account better for unscaled features. Set gamma explicitly to 'auto' or 'scale' to avoid this warning.\n",
      "  \"avoid this warning.\", FutureWarning)\n",
      "/anaconda2/envs/python_3_6/lib/python3.6/site-packages/sklearn/svm/base.py:196: FutureWarning: The default value of gamma will change from 'auto' to 'scale' in version 0.22 to account better for unscaled features. Set gamma explicitly to 'auto' or 'scale' to avoid this warning.\n",
      "  \"avoid this warning.\", FutureWarning)\n",
      "/anaconda2/envs/python_3_6/lib/python3.6/site-packages/sklearn/svm/base.py:196: FutureWarning: The default value of gamma will change from 'auto' to 'scale' in version 0.22 to account better for unscaled features. Set gamma explicitly to 'auto' or 'scale' to avoid this warning.\n",
      "  \"avoid this warning.\", FutureWarning)\n",
      "/anaconda2/envs/python_3_6/lib/python3.6/site-packages/sklearn/svm/base.py:196: FutureWarning: The default value of gamma will change from 'auto' to 'scale' in version 0.22 to account better for unscaled features. Set gamma explicitly to 'auto' or 'scale' to avoid this warning.\n",
      "  \"avoid this warning.\", FutureWarning)\n",
      "/anaconda2/envs/python_3_6/lib/python3.6/site-packages/sklearn/svm/base.py:196: FutureWarning: The default value of gamma will change from 'auto' to 'scale' in version 0.22 to account better for unscaled features. Set gamma explicitly to 'auto' or 'scale' to avoid this warning.\n",
      "  \"avoid this warning.\", FutureWarning)\n",
      "/anaconda2/envs/python_3_6/lib/python3.6/site-packages/sklearn/svm/base.py:196: FutureWarning: The default value of gamma will change from 'auto' to 'scale' in version 0.22 to account better for unscaled features. Set gamma explicitly to 'auto' or 'scale' to avoid this warning.\n",
      "  \"avoid this warning.\", FutureWarning)\n",
      "/anaconda2/envs/python_3_6/lib/python3.6/site-packages/sklearn/svm/base.py:196: FutureWarning: The default value of gamma will change from 'auto' to 'scale' in version 0.22 to account better for unscaled features. Set gamma explicitly to 'auto' or 'scale' to avoid this warning.\n",
      "  \"avoid this warning.\", FutureWarning)\n"
     ]
    },
    {
     "name": "stdout",
     "output_type": "stream",
     "text": [
      "MSE : -1625.872772\n",
      "time : 6.625516\n"
     ]
    }
   ],
   "source": [
    "scores = []\n",
    "for C in [0.8,0.9,1.0,1.1,1.2]:\n",
    "    for kernel in [\"rbf\",\"linear\",\"poly\"]:\n",
    "        SVRclf = SVR(C=C,kernel = kernel)\n",
    "        print(\"C :\" + str(C)+\", kernel : \"+str(kernel)+\" : \")\n",
    "\n",
    "        scores.append((ten_flod_cv(SVRclf,train_data[:10000],train_label[:10000]),C,kernel))"
   ]
  },
  {
   "cell_type": "code",
   "execution_count": 28,
   "metadata": {},
   "outputs": [
    {
     "name": "stdout",
     "output_type": "stream",
     "text": [
      "[1155.4596852  1525.15265912 1547.40511935 1651.19150351 1627.09476707\n",
      " 1516.30810841 1465.11221555 1029.89529864 1451.23900217 1453.56430843]\n",
      "0.8\n",
      "rbf\n",
      "[ 806.88789737  973.00455247  944.45209333 1020.94790825 1012.79864101\n",
      "  938.34169523  896.4034229   715.98170812  926.6874029   844.4841685 ]\n",
      "0.8\n",
      "linear\n",
      "[1519.81251981 1898.32572818 1833.53419786 1977.59798502 1966.62564531\n",
      " 1830.93058314 1719.67552564 1327.68465472 1670.12196499 1634.70167399]\n",
      "0.8\n",
      "poly\n",
      "[1113.29665098 1473.26467545 1503.33960304 1602.28801919 1575.88059476\n",
      " 1468.51868595 1423.0844941   992.72355025 1411.41949994 1416.6940401 ]\n",
      "0.9\n",
      "rbf\n",
      "[ 806.82372701  971.67651086  944.23299126 1020.50016842 1012.2163902\n",
      "  937.86097805  896.39919163  715.80975201  926.3387536   844.06109854]\n",
      "0.9\n",
      "linear\n",
      "[1498.7817146  1870.15919332 1802.41544244 1942.58195779 1931.48849393\n",
      " 1801.80367757 1690.53535745 1308.85770384 1640.33094997 1602.24072149]\n",
      "0.9\n",
      "poly\n",
      "[1073.19200463 1425.75655354 1463.0101405  1555.60796039 1527.35914279\n",
      " 1424.04610539 1384.2117025   959.63824199 1374.33410784 1381.80436315]\n",
      "1.0\n",
      "rbf\n",
      "[ 806.51574449  971.36659039  944.04556792 1020.23786625 1012.13468728\n",
      "  937.14336534  896.29792326  715.62330303  926.25478723  844.01742433]\n",
      "1.0\n",
      "linear\n",
      "[1478.54127206 1843.21809798 1772.37676063 1908.80130884 1897.29657378\n",
      " 1773.04228419 1661.04910989 1290.52358043 1610.51535385 1570.95058324]\n",
      "1.0\n",
      "poly\n",
      "[1037.77110842 1385.73643362 1426.3141866  1513.30308646 1486.00912265\n",
      " 1386.52434364 1346.85402013  931.42363215 1339.28094827 1350.50381988]\n",
      "1.1\n",
      "rbf\n",
      "[ 806.27280556  971.05505107  943.83572187 1020.02141785 1011.98630732\n",
      "  936.74473043  896.03520636  715.61236137  926.15829378  843.73348296]\n",
      "1.1\n",
      "linear\n",
      "[1458.70539608 1816.83946735 1742.9970311  1875.75476134 1863.9643848\n",
      " 1744.9165102  1631.72231879 1272.4715926  1581.73935344 1540.21348884]\n",
      "1.1\n",
      "poly\n",
      "[1002.94231568 1348.25319209 1390.28172247 1474.0425128  1446.07394866\n",
      " 1349.58967396 1314.02455784  903.05070037 1306.28396436 1318.92544443]\n",
      "1.2\n",
      "rbf\n",
      "[ 806.21418559  970.76902357  943.65206226 1020.19774605 1011.81877929\n",
      "  936.66550638  895.87726631  715.51345375  926.10277788  843.72369109]\n",
      "1.2\n",
      "linear\n",
      "[1438.71869125 1790.85164491 1713.17479075 1843.95137279 1831.52805226\n",
      " 1717.87067099 1603.32418282 1255.37791784 1553.73417463 1510.19622649]\n",
      "1.2\n",
      "poly\n"
     ]
    }
   ],
   "source": [
    "for x,y,z in scores:\n",
    "    print(x)\n",
    "    print(y)\n",
    "    print(z)\n",
    "\n",
    "\n"
   ]
  },
  {
   "cell_type": "markdown",
   "metadata": {},
   "source": [
    "# Stage3. Choosing Model and Save Model --- Compare the performance\n"
   ]
  },
  {
   "cell_type": "code",
   "execution_count": 22,
   "metadata": {},
   "outputs": [],
   "source": [
    "from sklearn.model_selection import StratifiedKFold\n",
    "from sklearn.metrics import mean_squared_error \n",
    "import math\n",
    "import time\n",
    "from sklearn.ensemble import GradientBoostingRegressor\n",
    "import pickle"
   ]
  },
  {
   "cell_type": "code",
   "execution_count": 23,
   "metadata": {},
   "outputs": [],
   "source": [
    "# the method to calculate Negative Log Likelihood for the predictions(NLL)\n",
    "def n_log_less(y_true,y_pred):\n",
    "    y_pred_mean = y_pred.mean()\n",
    "    y_sqrt = np.sum((y_pred-y_true)**2)\n",
    "    log_likelihood_elements = (0.5*np.log(2*math.pi*y_sqrt))+np.sum((y_true -y_pred_mean)**2)/(2*y_sqrt)\n",
    "    return log_likelihood_elements\n",
    "\n"
   ]
  },
  {
   "cell_type": "code",
   "execution_count": 24,
   "metadata": {},
   "outputs": [],
   "source": [
    "# use 10 - fold to train model with train data(80% the whole data) \n",
    "# and calculate MSE and NLL as the performances of the train model\n",
    "def ten_fold_cv_mse_nll(clf,X,Y):\n",
    "    stratified_folder = StratifiedKFold(n_splits=10, random_state=0, shuffle=False)\n",
    "    nll_list = []\n",
    "    mse_list = []\n",
    "    timelist = []\n",
    "    for train_index, test_index in stratified_folder.split(X, Y):\n",
    "\n",
    "\n",
    "        X_train = X[train_index]\n",
    "        Y_train = Y[train_index]\n",
    "        X_test = X[test_index]\n",
    "        Y_test = Y[test_index]\n",
    "\n",
    "        t1 = time.time()\n",
    "        clf.fit(X_train,Y_train)\n",
    "        pre_Result = clf.predict(X_test)\n",
    "        t2 = time.time()\n",
    "\n",
    "\n",
    "\n",
    "        print(\"++++++++++++++++\")\n",
    "        print(\"MSE : %2f\"%(mean_squared_error(Y_test,pre_Result)))\n",
    "        print(\"NLL : %2f\"%(n_log_less(Y_test,pre_Result)))\n",
    "        nll_list.append(n_log_less(Y_test,pre_Result))\n",
    "        mse_list.append(mean_squared_error(Y_test,pre_Result))\n",
    "        print(\"TIME : %2f\"%(t2-t1))\n",
    "        timelist.append(t2-t1)\n",
    "    return mse_list,nll_list,clf,timelist\n"
   ]
  },
  {
   "cell_type": "markdown",
   "metadata": {},
   "source": [
    "### (a) calculate the performance of MLPRegressor and save the model"
   ]
  },
  {
   "cell_type": "code",
   "execution_count": 26,
   "metadata": {},
   "outputs": [
    {
     "name": "stderr",
     "output_type": "stream",
     "text": [
      "/anaconda2/envs/python_3_6/lib/python3.6/site-packages/sklearn/model_selection/_split.py:652: Warning: The least populated class in y has only 1 members, which is too few. The minimum number of members in any class cannot be less than n_splits=10.\n",
      "  % (min_groups, self.n_splits)), Warning)\n"
     ]
    },
    {
     "name": "stdout",
     "output_type": "stream",
     "text": [
      "++++++++++++++++\n",
      "MSE : 62.027546\n",
      "NLL : 27.714771\n",
      "TIME : 43.577597\n",
      "++++++++++++++++\n",
      "MSE : 62.701126\n",
      "NLL : 24.097252\n",
      "TIME : 40.958536\n",
      "++++++++++++++++\n",
      "MSE : 58.205477\n",
      "NLL : 23.185363\n",
      "TIME : 40.661025\n",
      "++++++++++++++++\n",
      "MSE : 58.088582\n",
      "NLL : 22.335784\n",
      "TIME : 42.510786\n",
      "++++++++++++++++\n",
      "MSE : 59.187653\n",
      "NLL : 21.216306\n",
      "TIME : 44.073593\n",
      "++++++++++++++++\n",
      "MSE : 58.388296\n",
      "NLL : 21.061278\n",
      "TIME : 40.893892\n",
      "++++++++++++++++\n",
      "MSE : 60.034643\n",
      "NLL : 20.359676\n",
      "TIME : 41.242609\n",
      "++++++++++++++++\n",
      "MSE : 60.077691\n",
      "NLL : 19.771272\n",
      "TIME : 41.344134\n",
      "++++++++++++++++\n",
      "MSE : 61.732235\n",
      "NLL : 19.132382\n",
      "TIME : 40.619898\n",
      "++++++++++++++++\n",
      "MSE : 58.069273\n",
      "NLL : 19.475609\n",
      "TIME : 42.414659\n"
     ]
    }
   ],
   "source": [
    "mlpclf = MLPRegressor(solver='lbfgs',max_iter = 300,alpha=0.01,hidden_layer_sizes=(30,30), random_state=1)\n",
    "mse_list,nll_list,mlpclf,timelist = ten_fold_cv_mse_nll(mlpclf,train_data,train_label)\n",
    "\n"
   ]
  },
  {
   "cell_type": "code",
   "execution_count": 27,
   "metadata": {},
   "outputs": [
    {
     "name": "stdout",
     "output_type": "stream",
     "text": [
      "--------------------------MLP RESULT--------------------------\n",
      "MSE : 59.851252\n",
      "NLL : 21.834969\n",
      "TIME : 41.829673\n"
     ]
    }
   ],
   "source": [
    "print(\"--------------------------MLP RESULT--------------------------\")\n",
    "print(\"MSE : %2f\"%(sum(mse_list)/len(mse_list)))\n",
    "print(\"NLL : %2f\"%(sum(nll_list)/len(nll_list)))\n",
    "print(\"TIME : %2f\"%(sum(timelist)/len(timelist)))"
   ]
  },
  {
   "cell_type": "code",
   "execution_count": 28,
   "metadata": {},
   "outputs": [],
   "source": [
    "# save this model### (a) calculate the performance of MLPRegressor and save the model\n",
    "filename='mlp-model.sav'\n",
    "pickle.dump(mlpclf, open(filename, 'wb'))"
   ]
  },
  {
   "cell_type": "code",
   "execution_count": 29,
   "metadata": {},
   "outputs": [
    {
     "name": "stdout",
     "output_type": "stream",
     "text": [
      "0.9650199902204663\n"
     ]
    }
   ],
   "source": [
    "filename='mlp-model.sav'\n",
    "loaded_model = pickle.load(open(filename, 'rb'))\n",
    "result = loaded_model.score(test_data, test_label)\n",
    "print(result)\n"
   ]
  },
  {
   "cell_type": "markdown",
   "metadata": {},
   "source": [
    "### (b) calculate the performance of Gradient Boosting Regressor and save the model"
   ]
  },
  {
   "cell_type": "code",
   "execution_count": 30,
   "metadata": {},
   "outputs": [
    {
     "name": "stderr",
     "output_type": "stream",
     "text": [
      "/anaconda2/envs/python_3_6/lib/python3.6/site-packages/sklearn/model_selection/_split.py:652: Warning: The least populated class in y has only 1 members, which is too few. The minimum number of members in any class cannot be less than n_splits=10.\n",
      "  % (min_groups, self.n_splits)), Warning)\n"
     ]
    },
    {
     "name": "stdout",
     "output_type": "stream",
     "text": [
      "++++++++++++++++\n",
      "MSE : 142.579954\n",
      "NLL : 16.916191\n",
      "TIME : 25.834553\n",
      "++++++++++++++++\n",
      "MSE : 97.983503\n",
      "NLL : 18.476028\n",
      "TIME : 28.641484\n",
      "++++++++++++++++\n",
      "MSE : 87.068713\n",
      "NLL : 18.295573\n",
      "TIME : 26.172146\n",
      "++++++++++++++++\n",
      "MSE : 87.858158\n",
      "NLL : 17.625981\n",
      "TIME : 25.541673\n",
      "++++++++++++++++\n",
      "MSE : 86.452728\n",
      "NLL : 17.185048\n",
      "TIME : 25.656962\n",
      "++++++++++++++++\n",
      "MSE : 86.135515\n",
      "NLL : 16.991938\n",
      "TIME : 26.016605\n",
      "++++++++++++++++\n",
      "MSE : 91.670799\n",
      "NLL : 16.250030\n",
      "TIME : 26.077824\n",
      "++++++++++++++++\n",
      "MSE : 87.413907\n",
      "NLL : 16.226823\n",
      "TIME : 26.101367\n",
      "++++++++++++++++\n",
      "MSE : 88.142213\n",
      "NLL : 15.929894\n",
      "TIME : 26.328866\n",
      "++++++++++++++++\n",
      "MSE : 83.777336\n",
      "NLL : 16.081578\n",
      "TIME : 26.095878\n"
     ]
    }
   ],
   "source": [
    "est_clf = GradientBoostingRegressor(n_estimators=120, learning_rate=0.1,max_depth=1, random_state=0, loss='ls')\n",
    "mse_list_gbr,nll_list_gbr,gbrclf,timelist_gbr = ten_fold_cv_mse_nll(est_clf,train_data,train_label)"
   ]
  },
  {
   "cell_type": "code",
   "execution_count": 31,
   "metadata": {},
   "outputs": [
    {
     "name": "stdout",
     "output_type": "stream",
     "text": [
      "--------------------------GBR RESULT--------------------------\n",
      "MSE : 93.908283\n",
      "NLL : 16.997908\n",
      "TIME : 26.246736\n"
     ]
    }
   ],
   "source": [
    "print(\"--------------------------GBR RESULT--------------------------\")\n",
    "print(\"MSE : %2f\"%(sum(mse_list_gbr)/len(mse_list_gbr)))\n",
    "print(\"NLL : %2f\"%(sum(nll_list_gbr)/len(nll_list_gbr)))\n",
    "print(\"TIME : %2f\"%(sum(timelist_gbr)/len(timelist_gbr)))"
   ]
  },
  {
   "cell_type": "code",
   "execution_count": 47,
   "metadata": {},
   "outputs": [],
   "source": [
    "filename='gbr-model.sav'\n",
    "pickle.dump(gbrclf, open(filename, 'wb'))"
   ]
  },
  {
   "cell_type": "markdown",
   "metadata": {},
   "source": [
    "### (c) calculate the performance of Support Vector Regression and Save the Model"
   ]
  },
  {
   "cell_type": "code",
   "execution_count": null,
   "metadata": {},
   "outputs": [
    {
     "name": "stderr",
     "output_type": "stream",
     "text": [
      "/anaconda2/envs/python_3_6/lib/python3.6/site-packages/sklearn/model_selection/_split.py:652: Warning: The least populated class in y has only 1 members, which is too few. The minimum number of members in any class cannot be less than n_splits=10.\n",
      "  % (min_groups, self.n_splits)), Warning)\n"
     ]
    },
    {
     "name": "stdout",
     "output_type": "stream",
     "text": [
      "++++++++++++++++\n",
      "64.77901920261024\n",
      "26.81163528325742\n",
      "13187.760407924652\n"
     ]
    }
   ],
   "source": [
    "SVRclf = SVR(C=1.2,kernel = 'linear')\n",
    "mse_list_svr,nll_list_svr,svrclf,timelist_svr = ten_fold_cv_mse_nll(SVRclf,train_data,train_label)"
   ]
  },
  {
   "cell_type": "markdown",
   "metadata": {},
   "source": [
    "# Stage4. Load Model and predict the test data "
   ]
  },
  {
   "cell_type": "code",
   "execution_count": 1,
   "metadata": {},
   "outputs": [],
   "source": [
    "import numpy as np\n",
    "import pandas as pd\n",
    "import time\n",
    "from sklearn.metrics import mean_squared_error \n",
    "import math\n",
    "import pickle\n",
    "from sklearn.preprocessing import StandardScaler\n",
    "from sklearn.model_selection import train_test_split"
   ]
  },
  {
   "cell_type": "code",
   "execution_count": 2,
   "metadata": {},
   "outputs": [
    {
     "name": "stdout",
     "output_type": "stream",
     "text": [
      "The number of missing values of :CarrierDelay : 362841\n",
      "The number of missing values of :WeatherDelay : 362841\n",
      "The number of missing values of :NASDelay : 362841\n",
      "The number of missing values of :SecurityDelay : 362841\n",
      "The number of missing values of :LateAircraftDelay : 362841\n"
     ]
    },
    {
     "name": "stderr",
     "output_type": "stream",
     "text": [
      "/anaconda2/envs/python_3_6/lib/python3.6/site-packages/pandas/core/frame.py:3940: SettingWithCopyWarning: \n",
      "A value is trying to be set on a copy of a slice from a DataFrame\n",
      "\n",
      "See the caveats in the documentation: http://pandas.pydata.org/pandas-docs/stable/indexing.html#indexing-view-versus-copy\n",
      "  errors=errors)\n",
      "/anaconda2/envs/python_3_6/lib/python3.6/site-packages/sklearn/model_selection/_split.py:2179: FutureWarning: From version 0.21, test_size will always complement train_size unless both are specified.\n",
      "  FutureWarning)\n"
     ]
    },
    {
     "name": "stdout",
     "output_type": "stream",
     "text": [
      "train dataset size : (171108, 132)\n",
      "test dataset size : (42777, 132)\n"
     ]
    }
   ],
   "source": [
    "df = pd.read_csv(\"../Input/DelayedFlights.csv\")# because of too much missing values,which maybe influence the training result, we decide to remove the last 5 column\n",
    "for column in df.columns[-5:]:\n",
    "    print(\"The number of missing values of :%s\"%str(column)+\" : %d\"%df[column].isnull().sum())\n",
    "    df.drop(column, axis = 1, inplace = True)\n",
    "# because there are only several rows missing some values, we choose remove it\n",
    "df.dropna(axis=0, how='any', inplace=True)\n",
    "droplist = ['Year','Month','DepTime','CRSDepTime','CRSArrTime','FlightNum',\\\n",
    "            'TailNum','ActualElapsedTime', 'CRSElapsedTime','Cancelled', \\\n",
    "            'CancellationCode', 'Diverted','Unnamed: 0']\n",
    "for column in droplist:\n",
    "    df.drop(column, axis = 1, inplace = True)\n",
    "df.drop([\"AirTime\"], axis = 1, inplace = True)\n",
    "df.drop([\"ArrTime\"], axis = 1, inplace = True)\n",
    "df_filter = df[df['UniqueCarrier']==\"WN\"]\n",
    "categories = ['Origin', 'Dest']\n",
    "indicator_var = pd.DataFrame()\n",
    "for i in categories:\n",
    "    x = pd.get_dummies(df_filter[i],drop_first=True)\n",
    "    indicator_var = pd.concat([indicator_var, x],axis=1)\n",
    "df_filter.drop('UniqueCarrier', axis = 1, inplace = True)\n",
    "for col in categories:\n",
    "    df_filter.drop(col, axis = 1, inplace = True)\n",
    "final_data = pd.concat([indicator_var, df_filter],axis=1)\n",
    "final_data_filter_values = final_data.values\n",
    "label_array = final_data_filter_values[:,-5]\n",
    "features_array = np.delete(final_data_filter_values, -5, axis=1)\n",
    "# Nomalization\n",
    "scaler = StandardScaler() \n",
    "scaler.fit(features_array)  \n",
    "features_array_norm = scaler.transform(features_array)\n",
    "train_data,test_data,train_label,test_label = train_test_split(features_array_norm,label_array,train_size=0.8)\n",
    "print(\"train dataset size : \" + str(np.shape(train_data)))\n",
    "print(\"test dataset size : \" + str(np.shape(test_data)))"
   ]
  },
  {
   "cell_type": "code",
   "execution_count": 3,
   "metadata": {},
   "outputs": [],
   "source": [
    "# the method to calculate Negative Log Likelihood for the predictions(NLL)\n",
    "def n_log_less(y_true,y_pred):\n",
    "    y_pred_mean = y_pred.mean()\n",
    "    y_sqrt = np.sum((y_pred-y_true)**2)\n",
    "    log_likelihood_elements = (0.5*np.log(2*math.pi*y_sqrt))+np.sum((y_true -y_pred_mean)**2)/(2*y_sqrt)\n",
    "    return log_likelihood_elements"
   ]
  },
  {
   "cell_type": "markdown",
   "metadata": {},
   "source": [
    "## Best model is MLPREGRESSOR"
   ]
  },
  {
   "cell_type": "code",
   "execution_count": 4,
   "metadata": {},
   "outputs": [
    {
     "name": "stdout",
     "output_type": "stream",
     "text": [
      "--------------------------MLP RESULT--------------------------\n",
      "MSE : 57.209422\n",
      "NLL : 22.929275\n"
     ]
    }
   ],
   "source": [
    "filename='mlp-model.sav'\n",
    "mlpmodel = pickle.load(open(filename, 'rb'))\n",
    "pre_result =mlpmodel.predict(test_data) \n",
    "print(\"--------------------------MLP RESULT--------------------------\")\n",
    "print(\"MSE : %2f\"%(mean_squared_error(test_label,pre_result)))\n",
    "print(\"NLL : %2f\"%(n_log_less(test_label,pre_result)))"
   ]
  },
  {
   "cell_type": "code",
   "execution_count": 5,
   "metadata": {},
   "outputs": [
    {
     "name": "stdout",
     "output_type": "stream",
     "text": [
      "--------------------------GBR RESULT--------------------------\n",
      "MSE : 89.712932\n",
      "NLL : 17.921759\n"
     ]
    }
   ],
   "source": [
    "filename='gbr-model.sav'\n",
    "gbrmodel = pickle.load(open(filename, 'rb'))\n",
    "pre_result =gbrmodel.predict(test_data) \n",
    "print(\"--------------------------GBR RESULT--------------------------\")\n",
    "print(\"MSE : %2f\"%(mean_squared_error(test_label,pre_result)))\n",
    "print(\"NLL : %2f\"%(n_log_less(test_label,pre_result)))"
   ]
  },
  {
   "cell_type": "code",
   "execution_count": 6,
   "metadata": {},
   "outputs": [
    {
     "name": "stdout",
     "output_type": "stream",
     "text": [
      "--------------------------svr RESULT--------------------------\n",
      "MSE : 63.524467\n",
      "NLL : 21.635543\n"
     ]
    }
   ],
   "source": [
    "# this model is too big and slow even we have already save the model\n",
    "filename='svr-model.sav'\n",
    "svrmodel = pickle.load(open(filename, 'rb'))\n",
    "pre_result =svrmodel.predict(test_data) \n",
    "print(\"--------------------------svr RESULT--------------------------\")\n",
    "print(\"MSE : %2f\"%(mean_squared_error(test_label,pre_result)))\n",
    "print(\"NLL : %2f\"%(n_log_less(test_label,pre_result)))"
   ]
  },
  {
   "cell_type": "code",
   "execution_count": null,
   "metadata": {},
   "outputs": [],
   "source": []
  },
  {
   "cell_type": "code",
   "execution_count": null,
   "metadata": {},
   "outputs": [],
   "source": []
  }
 ],
 "metadata": {
  "kernelspec": {
   "display_name": "Python 3",
   "language": "python",
   "name": "python3"
  },
  "language_info": {
   "codemirror_mode": {
    "name": "ipython",
    "version": 3
   },
   "file_extension": ".py",
   "mimetype": "text/x-python",
   "name": "python",
   "nbconvert_exporter": "python",
   "pygments_lexer": "ipython3",
   "version": "3.6.7"
  }
 },
 "nbformat": 4,
 "nbformat_minor": 2
}
