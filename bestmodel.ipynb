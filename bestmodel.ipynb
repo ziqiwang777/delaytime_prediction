{
 "cells": [
  {
   "cell_type": "markdown",
   "metadata": {},
   "source": [
    "# IMPORT DATA AND DATA PROCESSING"
   ]
  },
  {
   "cell_type": "code",
   "execution_count": 1,
   "metadata": {},
   "outputs": [],
   "source": [
    "import numpy as np\n",
    "import pandas as pd\n",
    "import time\n",
    "from sklearn.metrics import mean_squared_error \n",
    "import math\n",
    "import pickle\n",
    "from sklearn.preprocessing import StandardScaler\n",
    "from sklearn.model_selection import train_test_split\n",
    "\n"
   ]
  },
  {
   "cell_type": "code",
   "execution_count": 2,
   "metadata": {},
   "outputs": [],
   "source": [
    "df = pd.read_csv(\"../Input/DelayedFlights.csv\")"
   ]
  },
  {
   "cell_type": "code",
   "execution_count": 3,
   "metadata": {},
   "outputs": [
    {
     "name": "stdout",
     "output_type": "stream",
     "text": [
      "The number of missing values of :CarrierDelay : 362841\n",
      "The number of missing values of :WeatherDelay : 362841\n",
      "The number of missing values of :NASDelay : 362841\n",
      "The number of missing values of :SecurityDelay : 362841\n",
      "The number of missing values of :LateAircraftDelay : 362841\n"
     ]
    }
   ],
   "source": [
    "# because of too much missing values,which maybe influence the training result, we decide to remove the last 5 column\n",
    "for column in df.columns[-5:]:\n",
    "    print(\"The number of missing values of :%s\"%str(column)+\" : %d\"%df[column].isnull().sum())\n",
    "    df.drop(column, axis = 1, inplace = True)\n",
    "# because there are only several rows missing some values, we choose remove it\n",
    "df.dropna(axis=0, how='any', inplace=True)"
   ]
  },
  {
   "cell_type": "code",
   "execution_count": 4,
   "metadata": {},
   "outputs": [],
   "source": [
    "droplist = ['Year','Month','DepTime','CRSDepTime','CRSArrTime','FlightNum',\\\n",
    "            'TailNum','ActualElapsedTime', 'CRSElapsedTime','Cancelled', \\\n",
    "            'CancellationCode', 'Diverted','Unnamed: 0']\n",
    "for column in droplist:\n",
    "    df.drop(column, axis = 1, inplace = True)\n",
    "df.drop([\"AirTime\"], axis = 1, inplace = True)\n",
    "df.drop([\"ArrTime\"], axis = 1, inplace = True)\n"
   ]
  },
  {
   "cell_type": "code",
   "execution_count": 5,
   "metadata": {},
   "outputs": [
    {
     "name": "stderr",
     "output_type": "stream",
     "text": [
      "/anaconda2/envs/python_3_6/lib/python3.6/site-packages/pandas/core/frame.py:3940: SettingWithCopyWarning: \n",
      "A value is trying to be set on a copy of a slice from a DataFrame\n",
      "\n",
      "See the caveats in the documentation: http://pandas.pydata.org/pandas-docs/stable/indexing.html#indexing-view-versus-copy\n",
      "  errors=errors)\n"
     ]
    }
   ],
   "source": [
    "df_filter = df[df['UniqueCarrier']==\"WN\"]\n",
    "\n",
    "categories = ['Origin', 'Dest']\n",
    "indicator_var = pd.DataFrame()\n",
    "for i in categories:\n",
    "    x = pd.get_dummies(df_filter[i],drop_first=True)\n",
    "    indicator_var = pd.concat([indicator_var, x],axis=1)\n",
    "df_filter.drop('UniqueCarrier', axis = 1, inplace = True)\n",
    "\n",
    "for col in categories:\n",
    "    df_filter.drop(col, axis = 1, inplace = True)\n",
    "final_data = pd.concat([indicator_var, df_filter],axis=1)"
   ]
  },
  {
   "cell_type": "code",
   "execution_count": 6,
   "metadata": {},
   "outputs": [
    {
     "data": {
      "text/plain": [
       "(213885, 133)"
      ]
     },
     "execution_count": 6,
     "metadata": {},
     "output_type": "execute_result"
    }
   ],
   "source": [
    "final_data.shape"
   ]
  },
  {
   "cell_type": "code",
   "execution_count": 7,
   "metadata": {},
   "outputs": [],
   "source": [
    "final_data_filter_values = final_data.values\n",
    "label_array = final_data_filter_values[:,-5]\n",
    "features_array = np.delete(final_data_filter_values, -5, axis=1)\n"
   ]
  },
  {
   "cell_type": "code",
   "execution_count": 8,
   "metadata": {},
   "outputs": [
    {
     "name": "stderr",
     "output_type": "stream",
     "text": [
      "/anaconda2/envs/python_3_6/lib/python3.6/site-packages/sklearn/model_selection/_split.py:2179: FutureWarning: From version 0.21, test_size will always complement train_size unless both are specified.\n",
      "  FutureWarning)\n"
     ]
    }
   ],
   "source": [
    "# Nomalization\n",
    "scaler = StandardScaler() \n",
    "scaler.fit(features_array)  \n",
    "features_array_norm = scaler.transform(features_array)\n",
    "train_data,test_data,train_label,test_label = train_test_split(features_array_norm,label_array,train_size=0.8)"
   ]
  },
  {
   "cell_type": "code",
   "execution_count": 9,
   "metadata": {},
   "outputs": [
    {
     "name": "stdout",
     "output_type": "stream",
     "text": [
      "train dataset size : (171108, 132)\n",
      "test dataset size : (42777, 132)\n"
     ]
    }
   ],
   "source": [
    "print(\"train dataset size : \" + str(np.shape(train_data)))\n",
    "print(\"test dataset size : \" + str(np.shape(test_data)))"
   ]
  },
  {
   "cell_type": "markdown",
   "metadata": {},
   "source": [
    "# BEST MODEL  -- MLPREGROSSOR"
   ]
  },
  {
   "cell_type": "code",
   "execution_count": 10,
   "metadata": {},
   "outputs": [],
   "source": [
    "# the method to calculate Negative Log Likelihood for the predictions(NLL)\n",
    "def n_log_less(y_true,y_pred):\n",
    "    y_pred_mean = y_pred.mean()\n",
    "    y_sqrt = np.sum((y_pred-y_true)**2)\n",
    "    log_likelihood_elements = (0.5*np.log(2*math.pi*y_sqrt))+np.sum((y_true -y_pred_mean)**2)/(2*y_sqrt)\n",
    "    return log_likelihood_elements"
   ]
  },
  {
   "cell_type": "code",
   "execution_count": 11,
   "metadata": {},
   "outputs": [],
   "source": [
    "### traindataset "
   ]
  },
  {
   "cell_type": "code",
   "execution_count": 13,
   "metadata": {},
   "outputs": [
    {
     "name": "stdout",
     "output_type": "stream",
     "text": [
      "--------------------------MLP RESULT--------------------------\n",
      "MSE : 56.251165\n",
      "NLL : 23.562480\n"
     ]
    }
   ],
   "source": [
    "filename='mlp-model.sav'\n",
    "mlpmodel = pickle.load(open(filename, 'rb'))\n",
    "pre_result =mlpmodel.predict(test_data) \n",
    "print(\"--------------------------MLP RESULT--------------------------\")\n",
    "print(\"MSE : %2f\"%(mean_squared_error(test_label,pre_result)))\n",
    "print(\"NLL : %2f\"%(n_log_less(test_label,pre_result)))"
   ]
  },
  {
   "cell_type": "code",
   "execution_count": null,
   "metadata": {},
   "outputs": [],
   "source": []
  }
 ],
 "metadata": {
  "kernelspec": {
   "display_name": "Python 3",
   "language": "python",
   "name": "python3"
  },
  "language_info": {
   "codemirror_mode": {
    "name": "ipython",
    "version": 3
   },
   "file_extension": ".py",
   "mimetype": "text/x-python",
   "name": "python",
   "nbconvert_exporter": "python",
   "pygments_lexer": "ipython3",
   "version": "3.6.7"
  }
 },
 "nbformat": 4,
 "nbformat_minor": 2
}
